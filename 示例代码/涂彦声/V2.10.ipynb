{
 "cells": [
  {
   "cell_type": "code",
   "execution_count": 13,
   "metadata": {},
   "outputs": [
    {
     "name": "stderr",
     "output_type": "stream",
     "text": [
      "[Qibo 0.2.3|INFO|2024-01-10 13:54:59]: Using numpy backend on /CPU:0\n"
     ]
    }
   ],
   "source": [
    "import qibo\n",
    "from qibo import Circuit, gates\n",
    "from qibo import hamiltonians\n",
    "from qibo.symbols import X, Y, Z, I\n",
    "from qibo.noise import NoiseModel, PauliError, DepolarizingError\n",
    "from qibo.result import MeasurementOutcomes\n",
    "import numpy as np\n",
    "from numpy.random import choice\n",
    "import time\n",
    "import matplotlib.pyplot as plt\n",
    "from scipy.linalg import expm, logm\n",
    "from scipy.optimize import minimize\n",
    "from scipy.special import comb\n",
    "from itertools import combinations\n",
    "import multiprocessing\n",
    "from math import pi\n",
    "qibo.set_backend(\"numpy\")\n",
    "from numpy.linalg import eigh"
   ]
  },
  {
   "cell_type": "code",
   "execution_count": 14,
   "metadata": {},
   "outputs": [],
   "source": [
    "time_start = time.time()\n",
    "n_qubit = 4\n",
    "a = 1\n",
    "mass = 5\n",
    "g = 1\n",
    "\n",
    "pauli_x = np.array([[0,1],[1,0]]) # Pauli matrix\n",
    "pauli_y = np.array([[0,-1j],[1j,0]])\n",
    "pauli_z = np.array([[1,0],[0,-1]])"
   ]
  },
  {
   "cell_type": "markdown",
   "metadata": {},
   "source": [
    "哈密顿量"
   ]
  },
  {
   "cell_type": "code",
   "execution_count": 15,
   "metadata": {},
   "outputs": [
    {
     "name": "stdout",
     "output_type": "stream",
     "text": [
      "-1.0*(((I0 + Z0)/2 - (I1 + Z1)/2)**2 + ((I2 + Z2)/2 - (I3 + Z3)/2)**2) + 5*((I0 + Z0)/2 - (I1 + Z1)/2 + (I2 + Z2)/2 - (I3 + Z3)/2) - 0.5*I*(-0.25*I*(X0 + 1.0*I*Y0)*(X1 - 1.0*I*Y1) - 0.25*I*(X0 + 1.0*I*Y0)*(X3 - 1.0*I*Y3)*Z1*Z2 - 0.25*I*(X1 + 1.0*I*Y1)*(X0 - 1.0*I*Y0) - 0.25*I*(X1 + 1.0*I*Y1)*(X2 - 1.0*I*Y2) - 0.25*I*(X2 + 1.0*I*Y2)*(X1 - 1.0*I*Y1) - 0.25*I*(X2 + 1.0*I*Y2)*(X3 - 1.0*I*Y3) - 0.25*I*(X3 + 1.0*I*Y3)*(X0 - 1.0*I*Y0)*Z1*Z2 - 0.25*I*(X3 + 1.0*I*Y3)*(X2 - 1.0*I*Y2))\n"
     ]
    }
   ],
   "source": [
    "# NJL: 1+1 D\n",
    "# define interaction form\n",
    "def phidaggerphi(position_i,position_j):\n",
    "    if position_i==position_j:\n",
    "        res = (I(position_i) + Z(position_i))/2\n",
    "    elif position_i > position_j:\n",
    "        res = (X(position_i) + 1j*Y(position_i)) * (X(position_j) - 1j*Y(position_j)) *(1j) /4\n",
    "        for k in range(position_j+1,position_i):\n",
    "            res *= 1j * Z(k)\n",
    "    elif position_i< position_j:\n",
    "        res = (X(position_i) + 1j*Y(position_i)) * (X(position_j) - 1j*Y(position_j)) *(-1j) /4\n",
    "        for k in range(position_i+1,position_j):\n",
    "            res *= -1j * Z(k)\n",
    "    return res\n",
    "\n",
    "# 具体构造哈密顿量\n",
    "H1 = 0\n",
    "for n in range(n_qubit-1):\n",
    "    H1 += phidaggerphi(n,n+1) - phidaggerphi(n+1,n)\n",
    "H1 += phidaggerphi(n_qubit-1,0) - phidaggerphi(0,n_qubit-1)\n",
    "H1 *= -1j/(2*a)\n",
    "\n",
    "H2 = 0\n",
    "for n in range(n_qubit):\n",
    "    H2 += (-1)**n * phidaggerphi(n,n)\n",
    "H2 *= mass\n",
    "\n",
    "H3 = 0 # 先空间点内求和，然后平方，再空间点求和\n",
    "for n in range(int(n_qubit/2)): # 遍历空间坐标\n",
    "    temp = 0\n",
    "    for i in range(2): # 遍历空间坐标内\n",
    "        temp += (-1)**i * phidaggerphi(2*n+i,2*n+i)\n",
    "    H3 += temp * temp\n",
    "H3 *= -g/a\n",
    "\n",
    "H_form = H1 + H2 + H3\n",
    "print(H_form)\n",
    "ham = hamiltonians.SymbolicHamiltonian(H_form)\n",
    "del(n)"
   ]
  },
  {
   "cell_type": "markdown",
   "metadata": {},
   "source": [
    "能量本征值"
   ]
  },
  {
   "cell_type": "code",
   "execution_count": 16,
   "metadata": {},
   "outputs": [
    {
     "name": "stderr",
     "output_type": "stream",
     "text": [
      "[Qibo 0.2.3|WARNING|2024-01-10 13:54:59]: Calculating the dense form of a symbolic Hamiltonian. This operation is memory inefficient.\n"
     ]
    },
    {
     "data": {
      "text/plain": [
       "array([-1.20909063e+01, -6.09901951e+00, -6.09901951e+00, -6.00000000e+00,\n",
       "       -6.00000000e+00, -2.00493818e+00, -2.00000000e+00, -1.52574358e-02,\n",
       "        0.00000000e+00,  0.00000000e+00,  1.45034735e-16,  4.00000000e+00,\n",
       "        4.00000000e+00,  4.09901951e+00,  4.09901951e+00,  8.11110193e+00])"
      ]
     },
     "execution_count": 16,
     "metadata": {},
     "output_type": "execute_result"
    }
   ],
   "source": [
    "ham.eigenvalues()"
   ]
  },
  {
   "cell_type": "markdown",
   "metadata": {},
   "source": [
    "线路"
   ]
  },
  {
   "cell_type": "code",
   "execution_count": 5,
   "metadata": {},
   "outputs": [],
   "source": [
    "# 随机翻转线路\n",
    "def circ_random_flip(circuit,n_flip):\n",
    "    \"\"\"抽取不相同的随机n_flip个qbit翻转\"\"\"\n",
    "    temp = list(range(n_qubit))\n",
    "    flip_index = np.random.choice(a=temp,size=n_flip,replace=False)\n",
    "    for i in flip_index:\n",
    "        circuit.add(gates.X(i))\n",
    "    flip_index = list(np.zeros(n_flip))\n",
    "    flip_index.sort() # 排序\n",
    "    print('flip qubit index:', flip_index)\n",
    "\n",
    "# initial state in computer basis\n",
    "def circ_initial_state(circuit, index:int):\n",
    "    if index > 2**n_qubit:\n",
    "        print('initial state index error, out of maximum')\n",
    "    else:\n",
    "        temp_index = index\n",
    "        temp_str = ''\n",
    "        for i in range(n_qubit):\n",
    "            temp_str += str(temp_index%2)\n",
    "            temp_index = int(temp_index/2)\n",
    "        # print('initial state:',temp_str)\n",
    "        for i in range(n_qubit):\n",
    "            if temp_str[i]=='1':\n",
    "                circuit.add(gates.X(i))\n",
    "\n",
    "# exp(sigma_I)\n",
    "# 任意pauli string 的 exp 算符\n",
    "def circ_exp_PS(circuit, pauli_string, theta):\n",
    "    \"\"\"exp[-i delta_beta a_mu simga^mu]\"\"\"\n",
    "    for i in range(n_qubit): # 遍历所有qubit\n",
    "        temp = pauli_string[i]\n",
    "        if temp=='I':  # 前后加入门\n",
    "            circuit.add(gates.Z(i))\n",
    "        elif temp=='x':\n",
    "            circuit.add(gates.H(i))\n",
    "        elif temp=='y':\n",
    "            circuit.add(gates.RX(q=i,theta=pi/2))\n",
    "\n",
    "    for i in range(n_qubit-1): # 加入CNOT门\n",
    "        circuit.add(gates.CNOT(i,n_qubit-1))\n",
    "    circuit.add(gates.RZ(q=n_qubit-1,theta=theta))\n",
    "    for i in range (n_qubit-1): # 第二次添加CNOT门\n",
    "        temp = n_qubit-2 - i\n",
    "        circuit.add(gates.CNOT(temp,n_qubit-1))\n",
    "    \n",
    "    for i in range(n_qubit): # 遍历所有qubit\n",
    "        temp = pauli_string[i]\n",
    "        if temp=='x':\n",
    "            circuit.add(gates.H(i))\n",
    "        elif temp=='y':\n",
    "            circuit.add(gates.RX(q=i,theta=-pi/2))\n",
    "\n",
    "def circ_M(circuit):\n",
    "    for n in range(n_qubit):\n",
    "        circuit.add(gates.M(n))"
   ]
  },
  {
   "cell_type": "markdown",
   "metadata": {},
   "source": [
    "表象变换矩阵U"
   ]
  },
  {
   "cell_type": "code",
   "execution_count": 6,
   "metadata": {},
   "outputs": [],
   "source": [
    "# 线路U\n",
    "def map_PS(string:str,position):\n",
    "    \"\"\"输入一个短的pauli string，和短pauli string的起始位置，补全剩下的单位算符和自动将超出n_qubit的字符替换掉最前面的单位算符，返回数据类型为str\"\"\"\n",
    "    if len(string)<=n_qubit:\n",
    "        temp = ''\n",
    "        for i in range(n_qubit):\n",
    "            temp += 'I'\n",
    "\n",
    "        temp_list = list(temp)\n",
    "        for i in range(len(string)):\n",
    "            if position+i<=n_qubit-1:\n",
    "                temp_list[position+i] = string[i]\n",
    "            elif position+i > n_qubit-1:\n",
    "                temp_list[position+i-n_qubit] = string[i]\n",
    "        res = ''.join(temp_list)\n",
    "        # print('pauli string:',res)\n",
    "        return res\n",
    "    else:\n",
    "        print('pauli string lenth large than n_qubit')\n",
    "\n",
    "\n",
    "# 表象变换矩阵\n",
    "# Unitary Quantum Neural Network\n",
    "def circ_U(circuit,alpha,layers):\n",
    "    \"\"\"U为表象变换矩阵，其中alpha为U参数（大小为3*n_qubuit），alpha的大小为3*n_qubit*layers\"\"\"\n",
    "    for l in range(layers):\n",
    "        for i in range(n_qubit): # 遍历所有qubit\n",
    "            temp_PS = map_PS(string='x',position=i)\n",
    "            circ_exp_PS(circuit=circuit, pauli_string=temp_PS, theta=alpha[3*l+i])\n",
    "            temp_PS = map_PS(string='z',position=i)\n",
    "            circ_exp_PS(circuit=circuit, pauli_string=temp_PS, theta=alpha[3*l+n_qubit+i])\n",
    "            temp_PS = map_PS(string='zz',position=i)\n",
    "            circ_exp_PS(circuit=circuit, pauli_string=temp_PS,theta=alpha[3*l+2*n_qubit+i])"
   ]
  },
  {
   "cell_type": "markdown",
   "metadata": {},
   "source": [
    "VQE"
   ]
  },
  {
   "cell_type": "code",
   "execution_count": 7,
   "metadata": {},
   "outputs": [],
   "source": [
    "class VQE(object):\n",
    "    def __init__(self,temperature,layers,n_flip):\n",
    "        \"\"\"本类里面的theta是E_i前面的系数，alpha是线路参数\"\"\"\n",
    "        self.temperature = temperature\n",
    "        self.layers = layers\n",
    "        self.n_flip = n_flip\n",
    "\n",
    "    def temp_circ(self,circuit,alpha,flip_index:list):\n",
    "        \"\"\"计算的基本线路，得到最终结果需要多个基本线路通过一定比例混合而成\"\"\"\n",
    "        circ_initial_state(circuit=circuit,index=10) # 初始010101\n",
    "        for i in flip_index:\n",
    "            circuit.add(gate=gates.X(i))\n",
    "        circ_U(circuit=circuit,alpha=alpha,layers=self.layers)\n",
    "    \n",
    "    def theta_energy_entropy(self,alpha):\n",
    "        \"\"\"返回三个值，第一个是theta_list，第二个是能量，第三个是熵\"\"\"\n",
    "        energy = 0\n",
    "        entropy = 0\n",
    "        theta_list = []\n",
    "        qubit_list = list(range(n_qubit))\n",
    "        for f in range(self.n_flip): # 例：n_flip=2，选取|0101>+所有翻转1个的初态\n",
    "            temp = list(combinations(qubit_list,f)) # 制备所有可能的翻转可能\n",
    "            for n in temp: # 具体翻转哪几个qubit\n",
    "                circ = Circuit(nqubits=n_qubit,density_matrix=False)\n",
    "                self.temp_circ(circuit=circ,alpha=alpha,flip_index=n)\n",
    "                state = circ.execute().state()\n",
    "                E_i = ham.expectation(state=state) # E_i\n",
    "\n",
    "                theta_i = np.exp(-E_i/self.temperature) # 没有归一化的theta\n",
    "                theta_list.append(theta_i)\n",
    "                energy += E_i * theta_i\n",
    "        normal = sum(theta_list) # 归一化\n",
    "        energy = energy/normal\n",
    "        theta_list = theta_list/normal\n",
    "        for theta in theta_list:\n",
    "            entropy -= theta * np.log(theta)\n",
    "        return theta_list,energy,entropy\n",
    "    \n",
    "    def free_energy(self,alpha):\n",
    "        theta_list,energy,entropy = self.theta_energy_entropy(alpha=alpha)\n",
    "        return energy - self.temperature * entropy\n",
    "    \n",
    "    def thermal_state(self,alpha):\n",
    "        \"\"\"返回热态（密度矩阵）：rho = sum_i theta_i U | phi_i > < phi_i | Udagger \"\"\"\n",
    "        theta,energy,entropy = self.theta_energy_entropy(alpha=alpha)\n",
    "        qubit_list = list(range(n_qubit))\n",
    "        res = 0\n",
    "        theta_index = 0\n",
    "        for f in range(self.n_flip): # 例：n_flip=2，选取|0101>+所有翻转1个的初态\n",
    "            temp = list(combinations(qubit_list,f)) # 制备所有可能的翻转组合\n",
    "            for n in temp: # 具体翻转哪几个qubit\n",
    "                circ = Circuit(nqubits=n_qubit,density_matrix=True)\n",
    "                self.temp_circ(circuit=circ,alpha=alpha,flip_index=n)\n",
    "                res += theta[theta_index]*(circ().state())\n",
    "                theta_index += 1\n",
    "        return res\n",
    "    \n",
    "    def Opt(self,n_Opt): # 最小化自由能\n",
    "        \"\"\"n_Opt：优化次数，取最好的优化结果\"\"\"\n",
    "        Opt_params = np.random.random(3*n_qubit*self.layers)\n",
    "        Opt_res = minimize(fun=self.free_energy,x0=Opt_params,method='BFGS',tol=1e-03)\n",
    "        print('free energy=',Opt_res.fun)\n",
    "        for i in range(1,n_Opt):\n",
    "            print('Opt:',i)\n",
    "            Opt_params = np.random.random(3*n_qubit*self.layers)\n",
    "            temp_res = minimize(fun=self.free_energy,x0=Opt_params,method='BFGS',tol=1e-03)\n",
    "            if Opt_res.fun-temp_res.fun>1e-05:\n",
    "                print('Opt update:free energy=',temp_res.fun)\n",
    "                Opt_res = temp_res\n",
    "        print(Opt_res.message,Opt_res.fun)\n",
    "        return Opt_res\n"
   ]
  },
  {
   "cell_type": "markdown",
   "metadata": {},
   "source": [
    "优化"
   ]
  },
  {
   "cell_type": "code",
   "execution_count": 8,
   "metadata": {},
   "outputs": [
    {
     "name": "stdout",
     "output_type": "stream",
     "text": [
      "free energy= -11.999998526678715\n",
      "Opt: 1\n",
      "Opt: 2\n",
      "Opt: 3\n",
      "Opt: 4\n",
      "Opt: 5\n",
      "Opt: 6\n",
      "Opt: 7\n",
      "Opt: 8\n",
      "Opt: 9\n",
      "Optimization terminated successfully. -11.999998526678715\n"
     ]
    }
   ],
   "source": [
    "# VQE 优化\n",
    "layers = 4\n",
    "n_flip = 1\n",
    "n_Opt = 10\n",
    "temperature_list = [0.1,0.3,0.5,0.7,0.9,1.1,1.3,1.5,1.7,1.9,2.1,2.3,2.5,3,3.5]\n",
    "Opt_res = VQE(temperature=temperature_list[len(temperature_list)-1],layers=layers,n_flip=n_flip).Opt(n_Opt=n_Opt)"
   ]
  },
  {
   "cell_type": "markdown",
   "metadata": {},
   "source": [
    "熵 & 自由能"
   ]
  },
  {
   "cell_type": "code",
   "execution_count": 9,
   "metadata": {},
   "outputs": [
    {
     "name": "stdout",
     "output_type": "stream",
     "text": [
      "ED entropy: [(-4.085578092987106e-17-1.646691463619561e-17j), (1.5368782663457273e-07-2.8305723034073164e-23j), (0.0002972851490025889-0j), (0.006906908753339008-4.6095120432094207e-26j), (0.037782308995108926-0j), (0.1083124082786497-0j), (0.22020246815281386-0j), (0.36481843965966276-0j), (0.5297866379258401-0j), (0.7033832671288586-0j), (0.8764358464197433-0j), (1.0426677458635618-0j), (1.1983102791485072-0j), (1.531859123396769-0j), (1.788425244395501-0j)]\n",
      "p_ED entropy: [-0.0, -0.0, -0.0, -0.0, -0.0, -0.0, -0.0, -0.0, -0.0, -0.0, -0.0, -0.0, -0.0, -0.0, -0.0]\n",
      "[(-12.090906314992784+1.646691463619561e-18j), (-12.090906317176781+8.491716910221949e-24j), (-12.09091768416148+0j), (-12.091408223790662+3.2266584302465943e-26j), (-12.09530741845346+0j), (-12.10919969641235+0j), (-12.141413081521627+0j), (-12.19946995033391+0j), (-12.288695141431777+0j), (-12.411953763011864+0j), (-12.570005563556826+0j), (-12.76206776678541+0j), (-12.986362509563508+0j), (-13.6722870677623+0j), (-14.505313209680125+0j)]\n",
      "[-12.090906314992788, -12.090906314992788, -12.090906314992788, -12.090906314992788, -12.090906314992788, -12.090906314992788, -12.090906314992788, -12.090906314992788, -12.090906314992788, -12.090906314992788, -12.090906314992788, -12.090906314992788, -12.090906314992788, -12.090906314992788, -12.090906314992788]\n"
     ]
    },
    {
     "name": "stderr",
     "output_type": "stream",
     "text": [
      "c:\\Users\\yansh\\miniconda3\\envs\\qibo\\lib\\site-packages\\scipy\\linalg\\_matfuncs_inv_ssq.py:836: LogmNearlySingularWarning: The logm input matrix may be nearly singular.\n",
      "  warnings.warn(near_singularity_msg, LogmNearlySingularWarning)\n",
      "c:\\Users\\yansh\\miniconda3\\envs\\qibo\\lib\\site-packages\\matplotlib\\cbook\\__init__.py:1345: ComplexWarning: Casting complex values to real discards the imaginary part\n",
      "  return np.asarray(x, float)\n"
     ]
    },
    {
     "data": {
      "text/plain": [
       "<matplotlib.legend.Legend at 0x1beac5f8820>"
      ]
     },
     "execution_count": 9,
     "metadata": {},
     "output_type": "execute_result"
    },
    {
     "data": {
      "image/png": "[encoded data removed]",
      "text/plain": [
       "<Figure size 640x480 with 1 Axes>"
      ]
     },
     "metadata": {},
     "output_type": "display_data"
    },
    {
     "data": {
      "image/png": "[encoded data removed]",
      "text/plain": [
       "<Figure size 640x480 with 1 Axes>"
      ]
     },
     "metadata": {},
     "output_type": "display_data"
    }
   ],
   "source": [
    "# 精确对角化取部分哈密顿量\n",
    "def portion_ham(n_flip):\n",
    "    temp = ham.eigenvalues()\n",
    "    n_state = 0\n",
    "    for i in range(n_flip):\n",
    "        n_state += comb(n_qubit,i)\n",
    "    n_state = int(n_state)\n",
    "    res = np.zeros((n_state,n_state))\n",
    "    for i in range(n_state):\n",
    "        res[i,i] = temp[i]\n",
    "    return res\n",
    "\n",
    "# 精确对角化熵\n",
    "def ED_entropy(temperature,H):\n",
    "    rho = expm(-H/temperature)\n",
    "    rho = rho/np.trace(rho)\n",
    "    return -np.trace(np.dot(rho,logm(rho)))\n",
    "\n",
    "# 精确对角化自由能\n",
    "def ED_free_energy(temperature,H):\n",
    "    rho = expm(-H/temperature)\n",
    "    rho = rho/np.trace(rho)\n",
    "    E = np.trace(np.dot(H,rho))\n",
    "    S = -np.trace(np.dot(rho,logm(rho)))\n",
    "    return E - temperature * S\n",
    "\n",
    "# ED entropy\n",
    "ED_entropy_list = []\n",
    "for t in temperature_list:\n",
    "    ED_entropy_list.append(ED_entropy(temperature=t,H=ham.matrix))\n",
    "print('ED entropy:',ED_entropy_list)\n",
    "\n",
    "# portion entropy\n",
    "portion_entropy_list = []\n",
    "for t in temperature_list:\n",
    "    portion_entropy_list.append(ED_entropy(temperature=t,H=portion_ham(n_flip=n_flip)))\n",
    "print('p_ED entropy:',portion_entropy_list)\n",
    "\n",
    "# ED free energy\n",
    "ED_free_energy_list = []\n",
    "for t in temperature_list:\n",
    "    ED_free_energy_list.append(ED_free_energy(temperature=t,H=ham.matrix))\n",
    "print(ED_free_energy_list)\n",
    "\n",
    "# portion free energy\n",
    "portion_free_energy_list = []\n",
    "for t in temperature_list:\n",
    "    portion_free_energy_list.append(ED_free_energy(temperature=t,H=portion_ham(n_flip=n_flip)))\n",
    "print(portion_free_energy_list)\n",
    "\n",
    "# VQE\n",
    "entropy_list = []\n",
    "free_energy_list = []\n",
    "for t in temperature_list:\n",
    "    theta_list,energy,entropy = VQE(temperature=t,layers=layers,n_flip=n_flip).theta_energy_entropy(alpha=Opt_res.x)\n",
    "    entropy_list.append(entropy)\n",
    "    free_energy_list.append(energy-t*entropy)\n",
    "\n",
    "plt.figure()\n",
    "# plt.xlim(0,max(temperature_list))\n",
    "# plt.ylim(0,max(ED_entropy_list))\n",
    "plt.plot(temperature_list,ED_entropy_list,label='ED')\n",
    "plt.plot(temperature_list,portion_entropy_list,'--',label='p_ED')\n",
    "plt.plot(temperature_list,entropy_list,'*',label='VQA')\n",
    "plt.xlabel('temperature')\n",
    "plt.ylabel('entropy')\n",
    "plt.legend()\n",
    "\n",
    "plt.figure()\n",
    "# plt.xlim(0,max(temperature_list))\n",
    "# plt.ylim(0,max(ED_free_energy_list))\n",
    "plt.plot(temperature_list,ED_free_energy_list,label='ED')\n",
    "plt.plot(temperature_list,portion_free_energy_list,'--',label='p_ED')\n",
    "plt.plot(temperature_list,free_energy_list,'*',label='VQA')\n",
    "plt.xlabel('temperature')\n",
    "plt.ylabel('free energy')\n",
    "plt.legend()"
   ]
  },
  {
   "cell_type": "markdown",
   "metadata": {},
   "source": [
    "对比两个热态之间的差别"
   ]
  },
  {
   "cell_type": "code",
   "execution_count": 10,
   "metadata": {},
   "outputs": [
    {
     "data": {
      "text/plain": [
       "<matplotlib.legend.Legend at 0x1beac945970>"
      ]
     },
     "execution_count": 10,
     "metadata": {},
     "output_type": "execute_result"
    },
    {
     "data": {
      "image/png": "[encoded data removed]",
      "text/plain": [
       "<Figure size 640x480 with 1 Axes>"
      ]
     },
     "metadata": {},
     "output_type": "display_data"
    }
   ],
   "source": [
    "def rho(temperature):\n",
    "    res = expm(-ham.matrix/temperature)\n",
    "    res = res/np.trace(res)\n",
    "    return res\n",
    "\n",
    "rd_list = []\n",
    "for t in temperature_list:\n",
    "    ts = VQE(temperature=t,layers=layers,n_flip=n_flip).thermal_state(alpha=Opt_res.x)\n",
    "    rd_list.append(np.trace(np.dot(rho(t),ts)))\n",
    "\n",
    "#画图\n",
    "plt.figure()\n",
    "plt.plot(temperature_list,rd_list,'*',label='different between thermal state')\n",
    "plt.xlabel('temperature')\n",
    "plt.ylabel('sigma')\n",
    "plt.legend()"
   ]
  },
  {
   "cell_type": "markdown",
   "metadata": {},
   "source": [
    "sigma凝聚"
   ]
  },
  {
   "cell_type": "code",
   "execution_count": 11,
   "metadata": {},
   "outputs": [
    {
     "data": {
      "text/plain": [
       "<matplotlib.legend.Legend at 0x1beac66c520>"
      ]
     },
     "execution_count": 11,
     "metadata": {},
     "output_type": "execute_result"
    },
    {
     "data": {
      "image/png": "[encoded data removed]",
      "text/plain": [
       "<Figure size 640x480 with 1 Axes>"
      ]
     },
     "metadata": {},
     "output_type": "display_data"
    }
   ],
   "source": [
    "def sigma_form(position): # 每个空间点的sigma算符\n",
    "    if position>=int(n_qubit/2) or position<0:\n",
    "        print('wrong positon')\n",
    "    else:\n",
    "        res = (-1)**(2*position) * phidaggerphi(2*position,2*position) + (-1)**(2*position+1) * phidaggerphi(2*position+1,2*position+1)\n",
    "        return res\n",
    "    \n",
    "# 全空间求和的sigma\n",
    "sigma_F = 0\n",
    "for n in range(int(n_qubit/2)): # 空间点求和\n",
    "    sigma_F += sigma_form(position=n)\n",
    "sigma = hamiltonians.SymbolicHamiltonian(sigma_F)\n",
    "\n",
    "# ED\n",
    "ED_sigma_list = []\n",
    "for t in temperature_list:\n",
    "    rho = expm(-ham.matrix/t)\n",
    "    rho = rho/np.trace(rho)\n",
    "    ED_sigma_list.append(sigma.expectation(rho))\n",
    "\n",
    "# VQE\n",
    "sigma_list = []\n",
    "for t in temperature_list:\n",
    "    rho = VQE(temperature=t,layers=layers,n_flip=n_flip).thermal_state(alpha=Opt_res.x)\n",
    "    sigma_list.append(sigma.expectation(rho))\n",
    "\n",
    "#画图\n",
    "plt.figure()\n",
    "plt.plot(temperature_list,sigma_list,'*',label='VQE')\n",
    "plt.plot(temperature_list,ED_sigma_list,label='ED')\n",
    "plt.xlabel('temperature')\n",
    "plt.ylabel('sigma')\n",
    "plt.legend()"
   ]
  },
  {
   "cell_type": "markdown",
   "metadata": {},
   "source": [
    "计算总时间"
   ]
  },
  {
   "cell_type": "code",
   "execution_count": 12,
   "metadata": {},
   "outputs": [
    {
     "name": "stdout",
     "output_type": "stream",
     "text": [
      "290.5135018825531\n"
     ]
    }
   ],
   "source": [
    "time_end = time.time()\n",
    "print(time_end - time_start)"
   ]
  }
 ],
 "metadata": {
  "kernelspec": {
   "display_name": "qibo",
   "language": "python",
   "name": "python3"
  },
  "language_info": {
   "codemirror_mode": {
    "name": "ipython",
    "version": 3
   },
   "file_extension": ".py",
   "mimetype": "text/x-python",
   "name": "python",
   "nbconvert_exporter": "python",
   "pygments_lexer": "ipython3",
   "version": "3.8.18"
  }
 },
 "nbformat": 4,
 "nbformat_minor": 2
}
