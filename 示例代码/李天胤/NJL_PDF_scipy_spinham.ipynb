{
 "cells": [
  {
   "cell_type": "code",
   "execution_count": 2,
   "metadata": {},
   "outputs": [],
   "source": [
    "from quspin.operators import hamiltonian,exp_op,quantum_operator # Hamiltonians and operators\n",
    "from quspin.basis import spinless_fermion_basis_1d, spin_basis_1d # Hilbert space fermion basis\n",
    "from quspin.tools.block_tools import block_diag_hamiltonian # block diagonalisation\n",
    "from quspin.tools.measurements import ED_state_vs_time\n",
    "from quspin.tools.evolution import expm_multiply_parallel\n",
    "from scipy.optimize import minimize_scalar,minimize,basinhopping, shgo, differential_evolution\n",
    "import numpy as np # generic math functions\n",
    "import numba as nb\n",
    "import matplotlib.pyplot as plt # plotting library\n",
    "import copy\n",
    "import matplotlib.pyplot as plt\n",
    "import scipy\n",
    "from scipy import sparse, interpolate\n",
    "import sys,os"
   ]
  },
  {
   "cell_type": "code",
   "execution_count": 3,
   "metadata": {},
   "outputs": [],
   "source": [
    "os.environ['KMP_DUPLICATE_LIB_OK']='True' # uncomment this line if omp error occurs on OSX for python 3\n",
    "os.environ['OMP_NUM_THREADS']='16' # set number of OpenMP threads to run in parallel\n",
    "os.environ['MKL_NUM_THREADS']='16' # set number of MKL threads to run in parallel\n",
    "dtype_real = np.float64\n",
    "dtype_cmplx = np.result_type(dtype_real,np.complex64)"
   ]
  },
  {
   "attachments": {},
   "cell_type": "markdown",
   "metadata": {},
   "source": [
    "参数表"
   ]
  },
  {
   "cell_type": "code",
   "execution_count": 4,
   "metadata": {},
   "outputs": [],
   "source": [
    "#set parameters\n",
    "L=10\n",
    "m=0.6\n",
    "g=0.8\n",
    "a=1\n",
    "hop=1\n",
    "layers=int(L/2)\n",
    "r=0\n",
    "charge=int(L/2)-1\n",
    "length=int(np.math.factorial(L)/(np.math.factorial(L-charge)*np.math.factorial(charge)))"
   ]
  },
  {
   "cell_type": "code",
   "execution_count": 5,
   "metadata": {},
   "outputs": [],
   "source": [
    "#converge a int to qubit string\n",
    "def bins(n,L):\n",
    "    bins=[str(int(j)) for j in bin(n)[2:]]\n",
    "    bins=''.join(bins)\n",
    "    l=L-len(bins)\n",
    "    zbins=[str(0) for x in range (0,l)]\n",
    "    zbins=''.join(zbins)\n",
    "    zbins=''.join([zbins,bins])\n",
    "    return zbins\n",
    "\n",
    "#counting how much \"1\" on the even sublattice and how much \"0\" on the odd sublattice\n",
    "def counting(state):\n",
    "    odd=0\n",
    "    even=0\n",
    "    num_ones=0\n",
    "    positionF=[]\n",
    "    positionAF=[]\n",
    "    num=list(state)\n",
    "    for i in range(0,len(num),2):\n",
    "        if num[i]==\"0\":\n",
    "            positionF.append(int(i/2))\n",
    "            even=even+1\n",
    "    for i in range(1,len(num)+1,2):\n",
    "        if num[i]==\"1\":\n",
    "            positionAF.append(int((i-1)/2))\n",
    "            odd=odd+1\n",
    "    for i in range(len(num)):\n",
    "        if num[i]==\"1\":\n",
    "            num_ones=num_ones+1\n",
    "    return even,odd,positionF,positionAF,num_ones"
   ]
  },
  {
   "cell_type": "code",
   "execution_count": 6,
   "metadata": {},
   "outputs": [],
   "source": [
    "#boundary term of ham\n",
    "def boundary(sym_i,sym_j,i,j):\n",
    "    string=[]\n",
    "    pos=[]\n",
    "    string.append(sym_i)\n",
    "    for k in range(i+1,j):\n",
    "        string.append('z')\n",
    "    string.append(sym_j)\n",
    "    string=''.join(string)\n",
    "    for k in range(i,j+1):\n",
    "        pos.append(k)\n",
    "    return string,pos"
   ]
  },
  {
   "attachments": {},
   "cell_type": "markdown",
   "metadata": {},
   "source": [
    "构造哈密顿量"
   ]
  },
  {
   "cell_type": "code",
   "execution_count": 7,
   "metadata": {},
   "outputs": [
    {
     "name": "stdout",
     "output_type": "stream",
     "text": [
      "Hermiticity check passed!\n"
     ]
    },
    {
     "name": "stderr",
     "output_type": "stream",
     "text": [
      "C:\\Users\\hp\\AppData\\Local\\Temp\\ipykernel_21500\\1621243830.py:25: UserWarning: Test for symmetries not implemented for <class 'quspin.basis.basis_1d.spin.spin_basis_1d'>, to turn off this warning set check_symm=False in hamiltonian\n",
      "  hxyodd=hamiltonian(static_hxyodd,dynamic,basis=basis1,dtype=np.complex128)\n"
     ]
    },
    {
     "name": "stdout",
     "output_type": "stream",
     "text": [
      "Hermiticity check passed!\n",
      "Hermiticity check passed!\n",
      "Hermiticity check passed!\n",
      "Hermiticity check passed!\n"
     ]
    },
    {
     "name": "stderr",
     "output_type": "stream",
     "text": [
      "C:\\Users\\hp\\AppData\\Local\\Temp\\ipykernel_21500\\1621243830.py:26: UserWarning: Test for symmetries not implemented for <class 'quspin.basis.basis_1d.spin.spin_basis_1d'>, to turn off this warning set check_symm=False in hamiltonian\n",
      "  hxyeven=hamiltonian(static_hxyeven,dynamic,basis=basis1,dtype=np.complex128)\n",
      "C:\\Users\\hp\\AppData\\Local\\Temp\\ipykernel_21500\\1621243830.py:27: UserWarning: Test for symmetries not implemented for <class 'quspin.basis.basis_1d.spin.spin_basis_1d'>, to turn off this warning set check_symm=False in hamiltonian\n",
      "  hzz=hamiltonian(static_hzz,dynamic,basis=basis1,dtype=np.complex128)#*(1/g)\n",
      "C:\\Users\\hp\\AppData\\Local\\Temp\\ipykernel_21500\\1621243830.py:28: UserWarning: Test for symmetries not implemented for <class 'quspin.basis.basis_1d.spin.spin_basis_1d'>, to turn off this warning set check_symm=False in hamiltonian\n",
      "  hz=hamiltonian(static_hz,dynamic,basis=basis1,dtype=np.complex128)\n",
      "C:\\Users\\hp\\AppData\\Local\\Temp\\ipykernel_21500\\1621243830.py:29: UserWarning: Test for symmetries not implemented for <class 'quspin.basis.basis_1d.spin.spin_basis_1d'>, to turn off this warning set check_symm=False in hamiltonian\n",
      "  ham=hamiltonian(static_ham,dynamic,basis=basis1,dtype=np.complex128)\n"
     ]
    }
   ],
   "source": [
    "#set the H=H1+...+H4\n",
    "basis1=spin_basis_1d(L=L,pauli=-1)\n",
    "hyx_even=[[-1/4,2*i,2*i+1] for i in range(int(L/2))]\n",
    "hxy_even=[[1/4,2*i,2*i+1] for i in range(int(L/2))]\n",
    "hyx_odd=[[-1/4,2*i+1,2*i+2] for i in range(int(L/2)-1)]\n",
    "hxy_odd=[[1/4,2*i+1,2*i+2] for i in range(int(L/2)-1)]\n",
    "boundary_term1=[[-1/4]+boundary('x','y',0,L-1)[1]]\n",
    "boundary_term2=[[1/4]+boundary('y','x',0,L-1)[1]]\n",
    "hzz=[[g/2,2*i,2*i+1] for i in range(int(L/2))]\n",
    "hz=[[-(m/2+r/2)*(-1)**i,i] for i in range(L)]\n",
    "hI=[[-g/2,2*i] for i in range(int(L/2))]\n",
    "hWxx_even=[[-r/4,2*i,2*i+1,2*i+2] for i in range(int(L/2)-1)]\n",
    "hWxx_odd=[[r/4,2*i+1,2*i+2,2*i+3] for i in range(int(L/2)-1)]\n",
    "#hWz=[[-(-1)**i*r/2,i] for i in range(L)]\n",
    "hWb1=[[-r/4]+boundary('x','x',0,L-2)[1]]\n",
    "hWb2=[[r/4]+boundary('x','x',1,L-1)[1]]\n",
    "static_hxyeven=[['yx',hyx_even],['xy',hxy_even],['xzx',hWxx_even],['yzy',hWxx_even],[boundary('x','x',0,L-2)[0],hWb1],[boundary('y','y',0,L-2)[0],hWb1]]\n",
    "static_hxyodd=[['yx',hyx_odd],['xy',hxy_odd],['xzx',hWxx_odd],['yzy',hWxx_odd],[boundary('x','x',1,L-1)[0],hWb2],[boundary('y','y',1,L-1)[0],hWb2],[boundary('x','y',0,L-1)[0],boundary_term1],[boundary('y','x',0,L-1)[0],boundary_term2]]\n",
    "static_hzz=[['zz',hzz]]\n",
    "static_hz=[['z',hz]]\n",
    "static_hI=[['I',hI]]\n",
    "#static_hW=[['xzx',hWxx],['yzy',hWyy],['z',hWz],[boundary('x','x',0,L-2)[0],hWb1],[boundary('y','y',0,L-2)[0],hWb1],[boundary('x','x',1,L-1)[0],hWb2],[boundary('y','y',1,L-1)[0],hWb2]]\n",
    "static_ham=static_hxyeven+static_hxyodd+static_hzz+static_hz+static_hI#+static_hW\n",
    "dynamic=[]\n",
    "hxyodd=hamiltonian(static_hxyodd,dynamic,basis=basis1,dtype=np.complex128)\n",
    "hxyeven=hamiltonian(static_hxyeven,dynamic,basis=basis1,dtype=np.complex128)\n",
    "hzz=hamiltonian(static_hzz,dynamic,basis=basis1,dtype=np.complex128)#*(1/g)\n",
    "hz=hamiltonian(static_hz,dynamic,basis=basis1,dtype=np.complex128)\n",
    "ham=hamiltonian(static_ham,dynamic,basis=basis1,dtype=np.complex128)"
   ]
  },
  {
   "attachments": {},
   "cell_type": "markdown",
   "metadata": {},
   "source": [
    "精确对角化求基态能量和本征态"
   ]
  },
  {
   "cell_type": "code",
   "execution_count": 10,
   "metadata": {},
   "outputs": [],
   "source": [
    "#compute the vacuum state and vacuum engergy with num method\n",
    "E0,V0=ham.eigsh(which='SA',k=1)"
   ]
  },
  {
   "cell_type": "code",
   "execution_count": 11,
   "metadata": {},
   "outputs": [
    {
     "name": "stdout",
     "output_type": "stream",
     "text": [
      "Hermiticity check passed!\n",
      "Particle conservation check passed!\n"
     ]
    },
    {
     "name": "stderr",
     "output_type": "stream",
     "text": [
      "C:\\Users\\hp\\AppData\\Local\\Temp\\ipykernel_21500\\957029705.py:3: UserWarning: Test for symmetries not implemented for <class 'quspin.basis.basis_1d.spin.spin_basis_1d'>, to turn off this warning set check_symm=False in hamiltonian\n",
      "  sub_ham=hamiltonian(static_ham,dynamic,basis=basis2,dtype=np.complex128)\n"
     ]
    }
   ],
   "source": [
    "#set the ham in the Q=0 subspace\n",
    "basis2=spin_basis_1d(L=L,Nup=charge,pauli=-1)\n",
    "sub_ham=hamiltonian(static_ham,dynamic,basis=basis2,dtype=np.complex128)"
   ]
  },
  {
   "cell_type": "code",
   "execution_count": 12,
   "metadata": {},
   "outputs": [],
   "source": [
    "#compute the qqbar state and qqbar state energy with num method\n",
    "p=0\n",
    "psi=np.zeros(2**L,dtype=np.complex128)\n",
    "E,V=sub_ham.eigsh(which='SA',k=10)\n",
    "for i in range(length):\n",
    "    psi[2**L-1-basis2[i]]=V[:,p][i]"
   ]
  },
  {
   "cell_type": "code",
   "execution_count": 13,
   "metadata": {},
   "outputs": [
    {
     "name": "stdout",
     "output_type": "stream",
     "text": [
      "[1.2715891838699722, 1.504109763701818, 1.8157659590040431, 1.5041097637018561, 1.8157659590040494, 3.0218206320019503, 2.9193475145362155, 2.9193475145361987, 2.9889711139119095, 2.988971113911848]\n"
     ]
    }
   ],
   "source": [
    "# 减去基态能量\n",
    "eng=[]\n",
    "for i in range(len(E)):\n",
    "    eng.append(E[i]-E0[0])\n",
    "print(eng)"
   ]
  },
  {
   "cell_type": "code",
   "execution_count": 26,
   "metadata": {},
   "outputs": [],
   "source": [
    "# define the initial state for QAOA\n",
    "def psi0():\n",
    "    ini_state1=np.zeros((2**L,1),dtype=np.complex128)[:,0]\n",
    "    ini_state2=np.zeros((2**L,1),dtype=np.complex128)[:,0]\n",
    "    ini_state3=np.zeros((2**L,1),dtype=np.complex128)[:,0]\n",
    "    for i in range(2**(L)):\n",
    "        if counting(bins(2**L-1-i,L))[0]==1 and counting(bins(2**L-1-i,L))[1]==1 and counting(bins(2**L-1-i,L))[2]==counting(bins(2**L-1-i,L))[3]:\n",
    "            ini_state1[i]=1\n",
    "        if counting(bins(2**L-1-i,L))[0]==0 and counting(bins(2**L-1-i,L))[1]==0:\n",
    "            ini_state2[i]=1\n",
    "        #if (i==469 or i==725): #or i==347 or i==854 or i==725 or i==365 or i==437 or i==858 or i==363 or i==726 or i==429 or i==693):\n",
    "        if counting(bins(2**L-1-i,L))[0]==1 and counting(bins(2**L-1-i,L))[1]==0:\n",
    "            ini_state3[i]=1\n",
    "    ini_state1=ini_state1/np.linalg.norm(ini_state1)\n",
    "    ini_state3=ini_state3/np.linalg.norm(ini_state3)\n",
    "    return ini_state2,ini_state1,ini_state3"
   ]
  },
  {
   "cell_type": "code",
   "execution_count": 27,
   "metadata": {},
   "outputs": [],
   "source": [
    "#the H1...H4 evoluation of QAOA\n",
    "def QAOA_state(psi0,layers,parameters):\n",
    "    evo=[]\n",
    "    for i in range(layers):\n",
    "        evo.append(expm_multiply_parallel(hxyeven.tocsr(),a=-1j*parameters[4*i],dtype=dtype_cmplx))\n",
    "        evo.append(expm_multiply_parallel(hzz.tocsr(),a=-1j*parameters[4*i+1],dtype=dtype_cmplx))\n",
    "        evo.append(expm_multiply_parallel(hxyodd.tocsr(),a=-1j*parameters[4*i+2],dtype=dtype_cmplx))\n",
    "        evo.append(expm_multiply_parallel(hz.tocsr(),a=-1j*parameters[4*i+3],dtype=dtype_cmplx))\n",
    "    for i in range(len(parameters)):\n",
    "        psi0=evo[i].dot(psi0)\n",
    "    eng=np.real(np.dot(np.conjugate(psi0),ham.dot(psi0)))\n",
    "    return psi0,eng"
   ]
  },
  {
   "cell_type": "code",
   "execution_count": 13,
   "metadata": {},
   "outputs": [],
   "source": [
    "#define the object function\n",
    "psi1=psi0()[0]\n",
    "psi2=psi0()[1]\n",
    "psi3=psi0()[2]\n",
    "'''\n",
    "def object_fun(parameters):\n",
    "    fun=QAOA_state(psi1,layers,parameters)[1]+0.5*QAOA_state(psi2,layers,parameters)[1]\n",
    "    return fun\n",
    "'''\n",
    "\n",
    "def object_fun(parameters):\n",
    "    fun=QAOA_state(psi3,layers,parameters)[1]\n",
    "    return fun\n"
   ]
  },
  {
   "cell_type": "code",
   "execution_count": 14,
   "metadata": {},
   "outputs": [],
   "source": [
    "#define what method to minimize the object function\n",
    "'''\n",
    "def VQE():\n",
    "    #params = np.zeros((1,4*layers))[0]\n",
    "    params = np.random.rand(4*layers)\n",
    "    #params = [-1.5682619386875696, 0.21971224390057, -0.03138909415951295, 1.7851245659805441, 0.5628852288958396, 2.437407019621721, 0.2843886182832214, -1.1754136197932012, 0.9949192159137364, 2.6486242655760077, 0.5280684657676477, -0.060239746546982775, 1.744707778976667, 0.6727739390950436, 0.47630495285023267, 1.1650458636527057, 3.3403919849430252, -0.16666276007755867, -0.2158632189935829, 1.2150069363465057, 0.34307210869529836, 2.203321796604741, -0.15203693675059018, 0.5207576003627894, 1.7795067791756296, -1.5485378801547731, 0.30721567990034127, 0.5225229646720281]\n",
    "    optimizer = scipy.optimize.minimize(fun=object_fun, x0=params, method='BFGS', options={'gtol': 1e-05, 'eps': 1e-08, 'disp': True})\n",
    "    return optimizer.x.tolist()\n",
    "'''\n",
    "\n",
    "def VQE():\n",
    "    #params = np.zeros((1,4*layers))[0]\n",
    "    minimizer_kwargs = {\"method\": \"BFGS\"}\n",
    "    params = np.random.rand(4*layers)\n",
    "    optimizer = basinhopping(object_fun,params,minimizer_kwargs=minimizer_kwargs,niter=2,T=0.8,disp=True)\n",
    "    return optimizer.x.tolist()"
   ]
  },
  {
   "cell_type": "code",
   "execution_count": 15,
   "metadata": {},
   "outputs": [
    {
     "name": "stdout",
     "output_type": "stream",
     "text": [
      "basinhopping step 0: f -6.4681\n",
      "basinhopping step 1: f -6.4681 trial_f -6.4681 accepted 1  lowest_f -6.4681\n",
      "basinhopping step 2: f -6.4681 trial_f -6.4681 accepted 1  lowest_f -6.4681\n"
     ]
    }
   ],
   "source": [
    "#obtain the theta^* parameter\n",
    "aa=VQE()"
   ]
  },
  {
   "cell_type": "code",
   "execution_count": 16,
   "metadata": {},
   "outputs": [
    {
     "name": "stdout",
     "output_type": "stream",
     "text": [
      "[0.6264007688311509, 0.3062038503722618, 0.19835367195708947, 1.4555096797554707, 0.1120555449986025, 0.4008494616306402, 0.4000663313080832, 0.91324615874983, 1.5269787937965191, 0.0008470320940432676, 0.14748219538742147, 0.5540727617410282, -0.622915984590231, 0.5244218457642272, 0.5790058625097728, 0.6016720015630728, 0.8848612930505584, 0.46901332583895433, 0.3343650711694467, 0.3622097133889584]\n"
     ]
    }
   ],
   "source": [
    "print(aa)"
   ]
  },
  {
   "cell_type": "code",
   "execution_count": 17,
   "metadata": {},
   "outputs": [
    {
     "data": {
      "text/plain": [
       "array([-6.95328857, -6.72076799, -6.40911179, -6.72076799, -6.40911179,\n",
       "       -5.20305712, -5.30553024, -5.30553024, -5.23590664, -5.23590664])"
      ]
     },
     "execution_count": 17,
     "metadata": {},
     "output_type": "execute_result"
    }
   ],
   "source": [
    "E"
   ]
  },
  {
   "cell_type": "code",
   "execution_count": 18,
   "metadata": {},
   "outputs": [
    {
     "name": "stdout",
     "output_type": "stream",
     "text": [
      "373\n",
      "|1 0 0 0 1 0 1 0 1 0>\n"
     ]
    }
   ],
   "source": [
    "proba_list=np.real(psi*np.conjugate(psi)).tolist()\n",
    "print(proba_list.index(max(proba_list)))\n",
    "print(basis1.int_to_state(2**10-469-1))"
   ]
  },
  {
   "cell_type": "code",
   "execution_count": 19,
   "metadata": {},
   "outputs": [
    {
     "name": "stdout",
     "output_type": "stream",
     "text": [
      "[(373, 0.09753807094700709), (343, 0.09753807094700687), (853, 0.09753807094700469), (469, 0.09753807094700463), (349, 0.0975380709470034), (437, 0.037733304486016986), (854, 0.03773330448601685), (347, 0.03773330448601654), (365, 0.03773330448601643), (725, 0.037733304486016375), (359, 0.011894993443453584), (629, 0.011894993443453475), (857, 0.011894993443453346), (470, 0.01189499344345322), (413, 0.01189499344345311), (374, 0.01045070081527312), (407, 0.010450700815272938), (869, 0.010450700815272803), (473, 0.010450700815272728), (605, 0.010450700815272617), (599, 0.00821493781590762), (377, 0.008214937815907585), (917, 0.00821493781590731), (485, 0.008214937815907283), (350, 0.00821493781590723), (363, 0.007976023915290878), (858, 0.007976023915290861), (693, 0.007976023915290833), (726, 0.007976023915290831), (429, 0.007976023915290814), (438, 0.004279454848742866), (870, 0.004279454848742854), (621, 0.0042794548487427985), (729, 0.004279454848742788), (411, 0.004279454848742775), (441, 0.003524307298258505), (918, 0.00352430729825849), (603, 0.0035243072982584856), (366, 0.003524307298258464), (741, 0.003524307298258459), (371, 0.00332624476381666), (215, 0.003326244763816631), (461, 0.003326244763816584), (821, 0.0033262447638165785), (860, 0.003326244763816567), (884, 0.0025133037173833235), (311, 0.002513303717383322), (467, 0.0025133037173832697), (845, 0.0025133037173832562), (221, 0.00251330371738322)]\n"
     ]
    }
   ],
   "source": [
    "import heapq\n",
    " \n",
    "tmp = zip(range(len(proba_list)), proba_list)\n",
    "large5 = heapq.nlargest(50, tmp, key=lambda x:x[1])\n",
    "print(large5)"
   ]
  },
  {
   "cell_type": "code",
   "execution_count": 20,
   "metadata": {},
   "outputs": [
    {
     "ename": "NameError",
     "evalue": "name 'para' is not defined",
     "output_type": "error",
     "traceback": [
      "\u001b[0;31m---------------------------------------------------------------------------\u001b[0m",
      "\u001b[0;31mNameError\u001b[0m                                 Traceback (most recent call last)",
      "\u001b[0;32m/var/folders/bq/7tbn6nlx25l2x1c13v0dw1sc0000gn/T/ipykernel_17692/961119263.py\u001b[0m in \u001b[0;36m<module>\u001b[0;34m\u001b[0m\n\u001b[0;32m----> 1\u001b[0;31m \u001b[0mobject_fun\u001b[0m\u001b[0;34m(\u001b[0m\u001b[0mpara\u001b[0m\u001b[0;34m)\u001b[0m\u001b[0;34m\u001b[0m\u001b[0;34m\u001b[0m\u001b[0m\n\u001b[0m",
      "\u001b[0;31mNameError\u001b[0m: name 'para' is not defined"
     ]
    }
   ],
   "source": [
    "object_fun(para)"
   ]
  },
  {
   "attachments": {},
   "cell_type": "markdown",
   "metadata": {},
   "source": [
    "file_VQE_qqbar_para=open('/home/lty/胤/code_for_SCNU_super_computer/PDF_NJL/VQE_qqbar_para/QCpara-N10ma02g08r0L10.txt',mode='w')\n",
    "file_VQE_qqbar_para.write(str(aa))\n",
    "file_VQE_qqbar_para.close()"
   ]
  },
  {
   "cell_type": "code",
   "execution_count": null,
   "metadata": {},
   "outputs": [],
   "source": [
    "for i in range(100):\n",
    "    print([object_fun(np.array(aa)+0.01*np.random.rand(4*layers)),object_fun(np.array(aa))])"
   ]
  },
  {
   "attachments": {},
   "cell_type": "markdown",
   "metadata": {},
   "source": [
    "compute the PDFs in the quantum computer"
   ]
  },
  {
   "cell_type": "code",
   "execution_count": null,
   "metadata": {},
   "outputs": [],
   "source": [
    "para=aa\n",
    "#para=eval(open('/home/lty/胤/code_for_SCNU_super_computer/PDF_NJL/VQE_qqbar_para/QCpara-N10ma02g08r0L10.txt',mode='r').read())"
   ]
  },
  {
   "cell_type": "code",
   "execution_count": null,
   "metadata": {},
   "outputs": [],
   "source": [
    "#prapare the Omega and qqbar state with theta^*\n",
    "vac_state,Evac=QAOA_state(psi1,layers,para)\n",
    "qqbar_state,Eqqbar=QAOA_state(psi2,layers,para)"
   ]
  },
  {
   "cell_type": "code",
   "execution_count": null,
   "metadata": {},
   "outputs": [],
   "source": [
    "#compute the hadron mass with quantum computing\n",
    "P_mass=Eqqbar-Evac\n",
    "print(P_mass)\n",
    "vol=a"
   ]
  },
  {
   "cell_type": "code",
   "execution_count": null,
   "metadata": {},
   "outputs": [],
   "source": [
    "#the operator in T_ij\n",
    "def string(coff,pauil,pos):\n",
    "    string=[]\n",
    "    string_pos=[]\n",
    "    basis=spin_basis_1d(L=L,pauli=-1)\n",
    "    for i in range(pos):\n",
    "        string.append('z')\n",
    "        string_pos.append(i)\n",
    "    string.append(pauil)\n",
    "    string_pos.append(pos)\n",
    "    string=''.join(string)\n",
    "    string_list=[[string,[[coff]+string_pos]]]\n",
    "    string_dict=dict(H0=string_list)\n",
    "    string_op=quantum_operator(string_dict,basis=basis,check_herm=False)\n",
    "    return string_op"
   ]
  },
  {
   "cell_type": "code",
   "execution_count": null,
   "metadata": {},
   "outputs": [],
   "source": [
    "#compute the position space PDF\n",
    "def quPDFs(psi,index_corr,t1,z1,t2,z2):\n",
    "    psi1=copy.deepcopy(psi)\n",
    "    psi=expm_multiply_parallel(ham.tocsr(),a=-1j*vol*t2,dtype=dtype_cmplx).dot(psi)\n",
    "    psi=string(1,'+',2*z2+int(L/2-1)+(index_corr[1]+1)%2).dot(psi)\n",
    "    psi=expm_multiply_parallel(ham.tocsr(),a=-1j*vol*(t1-t2),dtype=dtype_cmplx).dot(psi)\n",
    "    psi=string(1,'-',2*z1+int(L/2-1)+(index_corr[0]+1)%2).dot(psi)\n",
    "    psi=expm_multiply_parallel(ham.tocsr(),a=1j*vol*t1,dtype=dtype_cmplx).dot(psi)\n",
    "    quPDFs=np.dot(np.conjugate(psi1),psi)\n",
    "    return quPDFs"
   ]
  },
  {
   "cell_type": "code",
   "execution_count": null,
   "metadata": {
    "collapsed": true,
    "jupyter": {
     "outputs_hidden": true
    }
   },
   "outputs": [],
   "source": [
    "#compute the position space PDF\n",
    "PDFs11=[]\n",
    "PDFs12=[]\n",
    "PDFs21=[]\n",
    "PDFs22=[]\n",
    "for i in range(int(L/2)):\n",
    "    PDFs11.append(quPDFs(vac_state,[1,1],i-int((L/2-1)/2),-i+int((L/2-1)/2),0,0))\n",
    "    PDFs12.append(quPDFs(vac_state,[1,2],i-int((L/2-1)/2),-i+int((L/2-1)/2),0,0))\n",
    "    PDFs21.append(quPDFs(vac_state,[2,1],i-int((L/2-1)/2),-i+int((L/2-1)/2),0,0))\n",
    "    PDFs22.append(quPDFs(vac_state,[2,2],i-int((L/2-1)/2),-i+int((L/2-1)/2),0,0))\n",
    "\n",
    "PDFs=np.array(PDFs11)+np.array(PDFs12)+np.array(PDFs21)+np.array(PDFs22)"
   ]
  },
  {
   "attachments": {},
   "cell_type": "markdown",
   "metadata": {},
   "source": [
    "#### Fit the PDFs on quantum computer"
   ]
  },
  {
   "cell_type": "code",
   "execution_count": null,
   "metadata": {},
   "outputs": [],
   "source": [
    "#interpolate the position space PDFs\n",
    "Re_data=np.real(PDFs)\n",
    "Im_data=np.imag(PDFs)\n",
    "ym=np.linspace(-(L/2-1)/2,(L/2-1)/2,int(L/2))\n",
    "coti_ym=np.linspace(-(L/2-1)/2,(L/2-1)/2,1000)\n",
    "fun_Re_inpol=interpolate.interp1d(ym,Re_data,kind=\"quadratic\")\n",
    "fun_Im_inpol=interpolate.interp1d(ym,Im_data,kind=\"quadratic\")\n",
    "num_Re_inpol=fun_Re_inpol(coti_ym)\n",
    "num_Im_inpol=fun_Im_inpol(coti_ym)"
   ]
  },
  {
   "cell_type": "code",
   "execution_count": null,
   "metadata": {},
   "outputs": [],
   "source": [
    "plot1 = plt.plot(ym, Re_data, 's',label='original values')\n",
    "plot2 = plt.plot(coti_ym, num_Re_inpol, 'r',label='interpolate values')\n",
    "plt.xlabel('$y^-$')\n",
    "plt.ylabel('$ReD(y^-)$')\n",
    "plt.legend(loc=\"upper right\")\n",
    "plt.title('Re_interpolate')\n",
    "plt.show()"
   ]
  },
  {
   "cell_type": "code",
   "execution_count": null,
   "metadata": {},
   "outputs": [],
   "source": [
    "plot1 = plt.plot(ym, Im_data, 's',label='original values')\n",
    "plot2 = plt.plot(coti_ym, num_Im_inpol, 'r',label='interpolate values')\n",
    "plt.xlabel('$y^-$')\n",
    "plt.ylabel('$ImD(y^-)$')\n",
    "plt.legend(loc=\"upper right\")\n",
    "plt.title('Im_interpolate')\n",
    "plt.show()"
   ]
  },
  {
   "cell_type": "code",
   "execution_count": null,
   "metadata": {},
   "outputs": [],
   "source": [
    "np.savetxt(fname='/home/lty/yin_research/NJL_PDF_code/NJL_PDF_result/QC-posN18ma08g1_vac.txt',X=Re_data+1j*Im_data)"
   ]
  }
 ],
 "metadata": {
  "kernelspec": {
   "display_name": "Python 3",
   "language": "python",
   "name": "python3"
  },
  "language_info": {
   "codemirror_mode": {
    "name": "ipython",
    "version": 3
   },
   "file_extension": ".py",
   "mimetype": "text/x-python",
   "name": "python",
   "nbconvert_exporter": "python",
   "pygments_lexer": "ipython3",
   "version": "3.9.16"
  }
 },
 "nbformat": 4,
 "nbformat_minor": 4
}
