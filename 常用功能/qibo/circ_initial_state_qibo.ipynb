{
 "cells": [
  {
   "cell_type": "markdown",
   "metadata": {},
   "source": [
    "本功能用于创建初态，输入一个index，对应输出一个初态"
   ]
  },
  {
   "cell_type": "code",
   "execution_count": 1,
   "metadata": {},
   "outputs": [],
   "source": [
    "import qibo\n",
    "from qibo import Circuit, gates"
   ]
  },
  {
   "cell_type": "code",
   "execution_count": 2,
   "metadata": {},
   "outputs": [],
   "source": [
    "def circ_initial_state(circuit, index:int):\n",
    "    if index > 2**n_qubit:\n",
    "        print('initial state index error, out of maximum')\n",
    "    else:\n",
    "        temp_index = index\n",
    "        temp_str = ''\n",
    "        for i in range(n_qubit):\n",
    "            temp_str += str(temp_index%2)\n",
    "            temp_index = int(temp_index/2)\n",
    "        print('initial state:',temp_str)\n",
    "        for i in range(n_qubit):\n",
    "            if temp_str[i]=='1':\n",
    "                circuit.add(gates.X(i))"
   ]
  },
  {
   "cell_type": "code",
   "execution_count": 3,
   "metadata": {},
   "outputs": [
    {
     "name": "stdout",
     "output_type": "stream",
     "text": [
      "initial state: 0000\n",
      "q0: ─\n",
      "q1: ─\n",
      "q2: ─\n",
      "q3: ─\n",
      "initial state: 1000\n",
      "q0: ─X─\n",
      "q1: ───\n",
      "q2: ───\n",
      "q3: ───\n",
      "initial state: 0100\n",
      "q0: ───\n",
      "q1: ─X─\n",
      "q2: ───\n",
      "q3: ───\n",
      "initial state: 1100\n",
      "q0: ─X─\n",
      "q1: ─X─\n",
      "q2: ───\n",
      "q3: ───\n",
      "initial state: 0010\n",
      "q0: ───\n",
      "q1: ───\n",
      "q2: ─X─\n",
      "q3: ───\n",
      "initial state: 1010\n",
      "q0: ─X─\n",
      "q1: ───\n",
      "q2: ─X─\n",
      "q3: ───\n",
      "initial state: 0110\n",
      "q0: ───\n",
      "q1: ─X─\n",
      "q2: ─X─\n",
      "q3: ───\n",
      "initial state: 1110\n",
      "q0: ─X─\n",
      "q1: ─X─\n",
      "q2: ─X─\n",
      "q3: ───\n",
      "initial state: 0001\n",
      "q0: ───\n",
      "q1: ───\n",
      "q2: ───\n",
      "q3: ─X─\n",
      "initial state: 1001\n",
      "q0: ─X─\n",
      "q1: ───\n",
      "q2: ───\n",
      "q3: ─X─\n",
      "initial state: 0101\n",
      "q0: ───\n",
      "q1: ─X─\n",
      "q2: ───\n",
      "q3: ─X─\n",
      "initial state: 1101\n",
      "q0: ─X─\n",
      "q1: ─X─\n",
      "q2: ───\n",
      "q3: ─X─\n",
      "initial state: 0011\n",
      "q0: ───\n",
      "q1: ───\n",
      "q2: ─X─\n",
      "q3: ─X─\n",
      "initial state: 1011\n",
      "q0: ─X─\n",
      "q1: ───\n",
      "q2: ─X─\n",
      "q3: ─X─\n",
      "initial state: 0111\n",
      "q0: ───\n",
      "q1: ─X─\n",
      "q2: ─X─\n",
      "q3: ─X─\n",
      "initial state: 1111\n",
      "q0: ─X─\n",
      "q1: ─X─\n",
      "q2: ─X─\n",
      "q3: ─X─\n"
     ]
    }
   ],
   "source": [
    "n_qubit = 4\n",
    "for i in range(2**n_qubit):\n",
    "    test_circ = Circuit(n_qubit)\n",
    "    circ_initial_state(circuit=test_circ, index=i)\n",
    "    print(test_circ.draw())"
   ]
  }
 ],
 "metadata": {
  "kernelspec": {
   "display_name": "qibo",
   "language": "python",
   "name": "python3"
  },
  "language_info": {
   "codemirror_mode": {
    "name": "ipython",
    "version": 3
   },
   "file_extension": ".py",
   "mimetype": "text/x-python",
   "name": "python",
   "nbconvert_exporter": "python",
   "pygments_lexer": "ipython3",
   "version": "3.8.18"
  }
 },
 "nbformat": 4,
 "nbformat_minor": 2
}
