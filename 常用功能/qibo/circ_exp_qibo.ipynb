{
 "cells": [
  {
   "cell_type": "markdown",
   "metadata": {},
   "source": [
    "本功能实现使用基本量子门构造任意 exp (Pauli string)对应线路"
   ]
  },
  {
   "cell_type": "code",
   "execution_count": 1,
   "metadata": {},
   "outputs": [],
   "source": [
    "import qibo\n",
    "from qibo import Circuit, gates\n",
    "from math import pi"
   ]
  },
  {
   "cell_type": "markdown",
   "metadata": {},
   "source": [
    "输入一个Pauli string例：'xxyz'，数据类型为str，theta为exp前面的系数"
   ]
  },
  {
   "cell_type": "markdown",
   "metadata": {},
   "source": [
    "注：pauli string前面的系数和theta好像稍微差了点常数，具体推导可以看文件中天胤师兄的笔记自己验证一下！！！"
   ]
  },
  {
   "cell_type": "code",
   "execution_count": 2,
   "metadata": {},
   "outputs": [],
   "source": [
    "# exp(sigma_I)\n",
    "# 任意pauli string 的 exp 算符\n",
    "def circ_exp_PS(circuit, pauli_string, theta):\n",
    "    \"\"\"exp[-i delta_beta a_mu simga^mu]\"\"\"\n",
    "    for i in range(n_qubit): # 遍历所有qubit\n",
    "        temp = pauli_string[i]\n",
    "        if temp=='I':  # 前后加入门\n",
    "            circuit.add(gates.Z(i))\n",
    "        elif temp=='x':\n",
    "            circuit.add(gates.H(i))\n",
    "        elif temp=='y':\n",
    "            circuit.add(gates.RX(q=i,theta=pi/2))\n",
    "\n",
    "    for i in range(n_qubit-1): # 加入CNOT门\n",
    "        circuit.add(gates.CNOT(i,n_qubit-1))\n",
    "    circuit.add(gates.RZ(q=n_qubit-1,theta=theta))\n",
    "    for i in range (n_qubit-1): # 第二次添加CNOT门\n",
    "        temp = n_qubit-2 - i\n",
    "        circuit.add(gates.CNOT(temp,n_qubit-1))\n",
    "    \n",
    "    for i in range(n_qubit): # 遍历所有qubit\n",
    "        temp = pauli_string[i]\n",
    "        if temp=='x':\n",
    "            circuit.add(gates.H(i))\n",
    "        elif temp=='y':\n",
    "            circuit.add(gates.RX(q=i,theta=-pi/2))"
   ]
  },
  {
   "cell_type": "code",
   "execution_count": 3,
   "metadata": {},
   "outputs": [
    {
     "name": "stdout",
     "output_type": "stream",
     "text": [
      "q0: ─Z──o────────────o────\n",
      "q1: ─H──|─o────────o─|─H──\n",
      "q2: ─RX─|─|─o────o─|─|─RX─\n",
      "q3: ────X─X─X─RZ─X─X─X────\n"
     ]
    }
   ],
   "source": [
    "n_qubit = 4\n",
    "test_circ = Circuit(nqubits=n_qubit)\n",
    "circ_exp_PS(circuit=test_circ,pauli_string='Ixyz',theta=1)\n",
    "print(test_circ.draw())"
   ]
  },
  {
   "cell_type": "markdown",
   "metadata": {},
   "source": [
    "附赠一个简单的映射，映射规则写在了下面"
   ]
  },
  {
   "cell_type": "code",
   "execution_count": 4,
   "metadata": {},
   "outputs": [],
   "source": [
    "# 线路U\n",
    "def map_PS(string:str,position):\n",
    "    \"\"\"输入一个短的pauli string，和短pauli string的起始位置，补全剩下的单位算符和自动将超出n_qubit的字符替换掉最前面的单位算符，返回数据类型为str\"\"\"\n",
    "    if len(string)<=n_qubit:\n",
    "        temp = ''\n",
    "        for i in range(n_qubit):\n",
    "            temp += 'I'\n",
    "\n",
    "        temp_list = list(temp)\n",
    "        for i in range(len(string)):\n",
    "            if position+i<=n_qubit-1:\n",
    "                temp_list[position+i] = string[i]\n",
    "            elif position+i > n_qubit-1:\n",
    "                temp_list[position+i-n_qubit] = string[i]\n",
    "        res = ''.join(temp_list)\n",
    "        # print('pauli string:',res)\n",
    "        return res\n",
    "    else:\n",
    "        print('pauli string lenth large than n_qubit')"
   ]
  },
  {
   "cell_type": "code",
   "execution_count": 5,
   "metadata": {},
   "outputs": [
    {
     "data": {
      "text/plain": [
       "'IxxI'"
      ]
     },
     "execution_count": 5,
     "metadata": {},
     "output_type": "execute_result"
    }
   ],
   "source": [
    "map_PS('xx',1)"
   ]
  }
 ],
 "metadata": {
  "kernelspec": {
   "display_name": "qibo",
   "language": "python",
   "name": "python3"
  },
  "language_info": {
   "codemirror_mode": {
    "name": "ipython",
    "version": 3
   },
   "file_extension": ".py",
   "mimetype": "text/x-python",
   "name": "python",
   "nbconvert_exporter": "python",
   "pygments_lexer": "ipython3",
   "version": "3.8.18"
  }
 },
 "nbformat": 4,
 "nbformat_minor": 2
}
