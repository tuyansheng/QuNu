{
 "cells": [
  {
   "cell_type": "markdown",
   "metadata": {},
   "source": [
    "这个就不是一个非常通用的功能了，毕竟VQE自身决定了是可以选择不同线路的"
   ]
  },
  {
   "cell_type": "markdown",
   "metadata": {},
   "source": [
    "VQE的根本就是变分法，也就是通过修改参数，例如最优化自由能（自由能最小在物理上是对应一个热平衡态），也许可以最小化能量等物理量 获得不同的物理"
   ]
  },
  {
   "cell_type": "markdown",
   "metadata": {},
   "source": [
    "这里的VQE代码是优化自由能"
   ]
  },
  {
   "cell_type": "markdown",
   "metadata": {},
   "source": [
    "且我删除了这里的线路，可以参考使用上面的quantum neural network"
   ]
  },
  {
   "cell_type": "markdown",
   "metadata": {},
   "source": [
    "如果需要控制初态，可以选择使用circ_initial_state功能"
   ]
  },
  {
   "cell_type": "markdown",
   "metadata": {},
   "source": [
    "这里用了类的数据类型，使用方法请自行bing搜索"
   ]
  },
  {
   "cell_type": "markdown",
   "metadata": {},
   "source": [
    "我这里实现了多次重复优化并自动拾取最优的结果，供参考用"
   ]
  },
  {
   "cell_type": "code",
   "execution_count": null,
   "metadata": {},
   "outputs": [],
   "source": [
    "import qibo\n",
    "from qibo import Circuit, gates\n",
    "from qibo import hamiltonians\n",
    "from qibo.symbols import X, Y, Z, I\n",
    "from qibo.noise import NoiseModel, PauliError, DepolarizingError\n",
    "from qibo.result import MeasurementOutcomes\n",
    "import numpy as np\n",
    "import matplotlib.pyplot as plt\n",
    "from scipy.linalg import expm, logm\n",
    "from scipy.optimize import minimize\n",
    "from scipy.special import comb\n",
    "from itertools import combinations\n",
    "import multiprocessing\n",
    "from math import pi\n",
    "qibo.set_backend(\"numpy\")\n",
    "from numpy.linalg import eigh"
   ]
  },
  {
   "cell_type": "code",
   "execution_count": null,
   "metadata": {},
   "outputs": [],
   "source": [
    "class VQE(object):\n",
    "    def __init__(self,temperature,layers,n_flip):\n",
    "        \"\"\"本类里面的theta是E_i前面的系数，alpha是线路参数\"\"\"\n",
    "        self.temperature = temperature\n",
    "        self.layers = layers\n",
    "        self.n_flip = n_flip\n",
    "\n",
    "    def temp_circ(self,circuit,alpha,flip_index:list):\n",
    "        \"\"\"计算的基本线路，得到最终结果需要多个基本线路通过一定比例混合而成\"\"\"\n",
    "        pass # pass是用于占位（使得代码不报错），没有其他功能\n",
    "    \n",
    "    def theta_energy_entropy(self,alpha):\n",
    "        \"\"\"返回三个值，第一个是theta_list，第二个是能量，第三个是熵\"\"\"\n",
    "        energy = 0\n",
    "        entropy = 0\n",
    "        theta_list = []\n",
    "        qubit_list = list(range(n_qubit))\n",
    "        for f in range(self.n_flip): # 例：n_flip=2，选取|0101>+所有翻转1个的初态\n",
    "            temp = list(combinations(qubit_list,f)) # 制备所有可能的翻转可能\n",
    "            for n in temp: # 具体翻转哪几个qubit\n",
    "                circ = Circuit(nqubits=n_qubit,density_matrix=False)\n",
    "                self.temp_circ(circuit=circ,alpha=alpha,flip_index=n)\n",
    "                state = circ.execute().state()\n",
    "                E_i = ham.expectation(state=state) # E_i\n",
    "\n",
    "                theta_i = np.exp(-E_i/self.temperature) # 没有归一化的theta\n",
    "                theta_list.append(theta_i)\n",
    "                energy += E_i * theta_i\n",
    "        normal = sum(theta_list) # 归一化\n",
    "        energy = energy/normal\n",
    "        theta_list = theta_list/normal\n",
    "        for theta in theta_list:\n",
    "            entropy -= theta * np.log(theta)\n",
    "        return theta_list,energy,entropy\n",
    "    \n",
    "    def free_energy(self,alpha):\n",
    "        theta_list,energy,entropy = self.theta_energy_entropy(alpha=alpha)\n",
    "        return energy - self.temperature * entropy\n",
    "    \n",
    "    def Opt(self,n_Opt): # 最小化自由能\n",
    "        \"\"\"n_Opt：优化次数，取最好的优化结果\"\"\"\n",
    "        Opt_params = np.random.random(3*n_qubit*self.layers)\n",
    "        Opt_res = minimize(fun=self.free_energy,x0=Opt_params,method='BFGS',tol=1e-03)\n",
    "        print('free energy=',Opt_res.fun)\n",
    "        for i in range(1,n_Opt):\n",
    "            print('Opt:',i)\n",
    "            Opt_params = np.random.random(3*n_qubit*self.layers)\n",
    "            temp_res = minimize(fun=self.free_energy,x0=Opt_params,method='BFGS',tol=1e-03)\n",
    "            if Opt_res.fun-temp_res.fun>1e-05:\n",
    "                print('Opt update:free energy=',temp_res.fun)\n",
    "                Opt_res = temp_res\n",
    "        print(Opt_res.message,Opt_res.fun)\n",
    "        return Opt_res\n"
   ]
  }
 ],
 "metadata": {
  "language_info": {
   "name": "python"
  }
 },
 "nbformat": 4,
 "nbformat_minor": 2
}
