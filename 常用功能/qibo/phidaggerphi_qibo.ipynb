{
 "cells": [
  {
   "cell_type": "markdown",
   "metadata": {},
   "source": [
    "如同名字一般，这部分代码用于构造phidagger phi。"
   ]
  },
  {
   "cell_type": "markdown",
   "metadata": {},
   "source": [
    "说白了就是进行了Jordan-Wigner变换！"
   ]
  },
  {
   "cell_type": "markdown",
   "metadata": {},
   "source": [
    "P.S. 单独做这个功能是因为我们哈密顿量里面基本上写到最后都是phidagger phi的形式，"
   ]
  },
  {
   "cell_type": "markdown",
   "metadata": {},
   "source": [
    "也就是说有了phidaggerphi基本上就能构造常见的哈密顿量了"
   ]
  },
  {
   "cell_type": "code",
   "execution_count": 1,
   "metadata": {},
   "outputs": [
    {
     "name": "stderr",
     "output_type": "stream",
     "text": [
      "[Qibo 0.2.2|INFO|2024-01-10 17:45:54]: Using numpy backend on /CPU:0\n"
     ]
    }
   ],
   "source": [
    "import qibo\n",
    "from qibo.symbols import X, Y, Z, I\n",
    "qibo.set_backend(\"numpy\")"
   ]
  },
  {
   "cell_type": "code",
   "execution_count": 2,
   "metadata": {},
   "outputs": [],
   "source": [
    "def phidaggerphi(position_i,position_j):\n",
    "    if position_i==position_j:\n",
    "        res = (I(position_i) + Z(position_i))/2\n",
    "    elif position_i > position_j:\n",
    "        res = (X(position_i) + 1j*Y(position_i)) * (X(position_j) - 1j*Y(position_j)) *(1j) /4\n",
    "        for k in range(position_j+1,position_i):\n",
    "            res *= 1j * Z(k)\n",
    "    elif position_i< position_j:\n",
    "        res = (X(position_i) + 1j*Y(position_i)) * (X(position_j) - 1j*Y(position_j)) *(-1j) /4\n",
    "        for k in range(position_i+1,position_j):\n",
    "            res *= -1j * Z(k)\n",
    "    return res"
   ]
  },
  {
   "cell_type": "code",
   "execution_count": 3,
   "metadata": {},
   "outputs": [
    {
     "data": {
      "text/latex": [
       "$\\displaystyle \\frac{I_{0} + Z_{0}}{2}$"
      ],
      "text/plain": [
       "(I0 + Z0)/2"
      ]
     },
     "execution_count": 3,
     "metadata": {},
     "output_type": "execute_result"
    }
   ],
   "source": [
    "phidaggerphi(0,0)"
   ]
  }
 ],
 "metadata": {
  "kernelspec": {
   "display_name": "qibo",
   "language": "python",
   "name": "python3"
  },
  "language_info": {
   "codemirror_mode": {
    "name": "ipython",
    "version": 3
   },
   "file_extension": ".py",
   "mimetype": "text/x-python",
   "name": "python",
   "nbconvert_exporter": "python",
   "pygments_lexer": "ipython3",
   "version": "3.8.18"
  }
 },
 "nbformat": 4,
 "nbformat_minor": 2
}
