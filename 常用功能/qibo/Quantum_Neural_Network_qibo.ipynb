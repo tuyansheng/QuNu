{
 "cells": [
  {
   "cell_type": "markdown",
   "metadata": {},
   "source": [
    "构造量子神经网络，本线路来自于旦波老师的那篇文章，放在代码库的文献中"
   ]
  },
  {
   "cell_type": "code",
   "execution_count": 1,
   "metadata": {},
   "outputs": [
    {
     "name": "stderr",
     "output_type": "stream",
     "text": [
      "[Qibo 0.2.2|INFO|2024-01-10 17:23:35]: Using numpy backend on /CPU:0\n"
     ]
    }
   ],
   "source": [
    "import qibo\n",
    "from qibo import Circuit, gates\n",
    "from qibo import hamiltonians\n",
    "from qibo.symbols import X, Y, Z, I\n",
    "from qibo.noise import NoiseModel, PauliError, DepolarizingError\n",
    "from qibo.result import MeasurementOutcomes\n",
    "import numpy as np\n",
    "import matplotlib.pyplot as plt\n",
    "from scipy.linalg import expm, logm\n",
    "from scipy.optimize import minimize\n",
    "from scipy.special import comb\n",
    "from itertools import combinations\n",
    "import multiprocessing\n",
    "from math import pi\n",
    "qibo.set_backend(\"numpy\")\n",
    "from numpy.linalg import eigh"
   ]
  },
  {
   "cell_type": "code",
   "execution_count": 2,
   "metadata": {},
   "outputs": [],
   "source": [
    "# exp(sigma_I)\n",
    "# 任意pauli string 的 exp 算符\n",
    "def circ_exp_PS(circuit, pauli_string, theta):\n",
    "    \"\"\"exp[-i delta_beta a_mu simga^mu]\"\"\"\n",
    "    for i in range(n_qubit): # 遍历所有qubit\n",
    "        temp = pauli_string[i]\n",
    "        if temp=='I':  # 前后加入门\n",
    "            circuit.add(gates.Z(i))\n",
    "        elif temp=='x':\n",
    "            circuit.add(gates.H(i))\n",
    "        elif temp=='y':\n",
    "            circuit.add(gates.RX(q=i,theta=pi/2))\n",
    "\n",
    "    for i in range(n_qubit-1): # 加入CNOT门\n",
    "        circuit.add(gates.CNOT(i,n_qubit-1))\n",
    "    circuit.add(gates.RZ(q=n_qubit-1,theta=theta))\n",
    "    for i in range (n_qubit-1): # 第二次添加CNOT门\n",
    "        temp = n_qubit-2 - i\n",
    "        circuit.add(gates.CNOT(temp,n_qubit-1))\n",
    "    \n",
    "    for i in range(n_qubit): # 遍历所有qubit\n",
    "        temp = pauli_string[i]\n",
    "        if temp=='x':\n",
    "            circuit.add(gates.H(i))\n",
    "        elif temp=='y':\n",
    "            circuit.add(gates.RX(q=i,theta=-pi/2))\n",
    "\n",
    "# 线路U\n",
    "def map_PS(string:str,position):\n",
    "    \"\"\"输入一个短的pauli string，和短pauli string的起始位置，补全剩下的单位算符和自动将超出n_qubit的字符替换掉最前面的单位算符，返回数据类型为str\"\"\"\n",
    "    if len(string)<=n_qubit:\n",
    "        temp = ''\n",
    "        for i in range(n_qubit):\n",
    "            temp += 'I'\n",
    "\n",
    "        temp_list = list(temp)\n",
    "        for i in range(len(string)):\n",
    "            if position+i<=n_qubit-1:\n",
    "                temp_list[position+i] = string[i]\n",
    "            elif position+i > n_qubit-1:\n",
    "                temp_list[position+i-n_qubit] = string[i]\n",
    "        res = ''.join(temp_list)\n",
    "        # print('pauli string:',res)\n",
    "        return res\n",
    "    else:\n",
    "        print('pauli string lenth large than n_qubit')\n",
    "\n",
    "\n",
    "# 表象变换矩阵\n",
    "# Unitary Quantum Neural Network\n",
    "def circ_U(circuit,alpha,layers):\n",
    "    \"\"\"U为表象变换矩阵，其中alpha为U参数（大小为3*n_qubuit），alpha的大小为3*n_qubit*layers\"\"\"\n",
    "    for l in range(layers):\n",
    "        for i in range(n_qubit): # 遍历所有qubit\n",
    "            temp_PS = map_PS(string='x',position=i)\n",
    "            circ_exp_PS(circuit=circuit, pauli_string=temp_PS, theta=alpha[3*l+i])\n",
    "            temp_PS = map_PS(string='z',position=i)\n",
    "            circ_exp_PS(circuit=circuit, pauli_string=temp_PS, theta=alpha[3*l+n_qubit+i])\n",
    "            temp_PS = map_PS(string='zz',position=i)\n",
    "            circ_exp_PS(circuit=circuit, pauli_string=temp_PS,theta=alpha[3*l+2*n_qubit+i])"
   ]
  },
  {
   "cell_type": "code",
   "execution_count": 4,
   "metadata": {},
   "outputs": [
    {
     "name": "stdout",
     "output_type": "stream",
     "text": [
      "q0:     ─H─o────────────o─H─o────────────o───o────────────o─Z─o────────────o─Z ...\n",
      "q1:     ─Z─|─o────────o─|─Z─|─o────────o─|───|─o────────o─|─H─|─o────────o─|─H ...\n",
      "q2:     ─Z─|─|─o────o─|─|─Z─|─|─o────o─|─|─Z─|─|─o────o─|─|─Z─|─|─o────o─|─|─Z ...\n",
      "q3:     ─Z─X─X─X─RZ─X─X─X─Z─X─X─X─RZ─X─X─X─Z─X─X─X─RZ─X─X─X─Z─X─X─X─RZ─X─X─X─Z ...\n",
      "\n",
      "q0: ... ─o────────────o─Z─o────────────o─Z─o────────────o─Z─o────────────o─Z─o ...\n",
      "q1: ... ─|─o────────o─|───|─o────────o─|─Z─|─o────────o─|─Z─|─o────────o─|─Z─| ...\n",
      "q2: ... ─|─|─o────o─|─|───|─|─o────o─|─|─H─|─|─o────o─|─|─H─|─|─o────o─|─|───| ...\n",
      "q3: ... ─X─X─X─RZ─X─X─X─Z─X─X─X─RZ─X─X─X─Z─X─X─X─RZ─X─X─X─Z─X─X─X─RZ─X─X─X───X ...\n",
      "\n",
      "q0: ... ────────────o─Z─o────────────o─Z─o────────────o───o────────────o─H─o── ...\n",
      "q1: ... ─o────────o─|─Z─|─o────────o─|─Z─|─o────────o─|─Z─|─o────────o─|─Z─|─o ...\n",
      "q2: ... ─|─o────o─|─|─Z─|─|─o────o─|─|─Z─|─|─o────o─|─|─Z─|─|─o────o─|─|─Z─|─| ...\n",
      "q3: ... ─X─X─RZ─X─X─X─H─X─X─X─RZ─X─X─X─H─X─X─X─RZ─X─X─X───X─X─X─RZ─X─X─X─Z─X─X ...\n",
      "\n",
      "q0: ... ──────────o─H─o────────────o───o────────────o─Z─o────────────o─Z─o──── ...\n",
      "q1: ... ────────o─|─Z─|─o────────o─|───|─o────────o─|─H─|─o────────o─|─H─|─o── ...\n",
      "q2: ... ─o────o─|─|─Z─|─|─o────o─|─|─Z─|─|─o────o─|─|─Z─|─|─o────o─|─|─Z─|─|─o ...\n",
      "q3: ... ─X─RZ─X─X─X─Z─X─X─X─RZ─X─X─X─Z─X─X─X─RZ─X─X─X─Z─X─X─X─RZ─X─X─X─Z─X─X─X ...\n",
      "\n",
      "q0: ... ────────o─Z─o────────────o─Z─o────────────o─Z─o────────────o─Z─o────── ...\n",
      "q1: ... ──────o─|───|─o────────o─|─Z─|─o────────o─|─Z─|─o────────o─|─Z─|─o──── ...\n",
      "q2: ... ────o─|─|───|─|─o────o─|─|─H─|─|─o────o─|─|─H─|─|─o────o─|─|───|─|─o── ...\n",
      "q3: ... ─RZ─X─X─X─Z─X─X─X─RZ─X─X─X─Z─X─X─X─RZ─X─X─X─Z─X─X─X─RZ─X─X─X───X─X─X─R ...\n",
      "\n",
      "q0: ... ──────o─Z─o────────────o─Z─o────────────o───o────────────o─H─o──────── ...\n",
      "q1: ... ────o─|─Z─|─o────────o─|─Z─|─o────────o─|─Z─|─o────────o─|─Z─|─o────── ...\n",
      "q2: ... ──o─|─|─Z─|─|─o────o─|─|─Z─|─|─o────o─|─|─Z─|─|─o────o─|─|─Z─|─|─o──── ...\n",
      "q3: ... Z─X─X─X─H─X─X─X─RZ─X─X─X─H─X─X─X─RZ─X─X─X───X─X─X─RZ─X─X─X─Z─X─X─X─RZ─ ...\n",
      "\n",
      "q0: ... ────o─H─o────────────o───o────────────o─Z─o────────────o─Z─o────────── ...\n",
      "q1: ... ──o─|─Z─|─o────────o─|───|─o────────o─|─H─|─o────────o─|─H─|─o──────── ...\n",
      "q2: ... o─|─|─Z─|─|─o────o─|─|─Z─|─|─o────o─|─|─Z─|─|─o────o─|─|─Z─|─|─o────o─ ...\n",
      "q3: ... X─X─X─Z─X─X─X─RZ─X─X─X─Z─X─X─X─RZ─X─X─X─Z─X─X─X─RZ─X─X─X─Z─X─X─X─RZ─X─ ...\n",
      "\n",
      "q0: ... ──o─Z─o────────────o─Z─o────────────o─Z─o────────────o─Z─o──────────── ...\n",
      "q1: ... o─|───|─o────────o─|─Z─|─o────────o─|─Z─|─o────────o─|─Z─|─o────────o─ ...\n",
      "q2: ... |─|───|─|─o────o─|─|─H─|─|─o────o─|─|─H─|─|─o────o─|─|───|─|─o────o─|─ ...\n",
      "q3: ... X─X─Z─X─X─X─RZ─X─X─X─Z─X─X─X─RZ─X─X─X─Z─X─X─X─RZ─X─X─X───X─X─X─RZ─X─X─ ...\n",
      "\n",
      "q0: ... o─Z─o────────────o─Z─o────────────o───o────────────o─\n",
      "q1: ... |─Z─|─o────────o─|─Z─|─o────────o─|─Z─|─o────────o─|─\n",
      "q2: ... |─Z─|─|─o────o─|─|─Z─|─|─o────o─|─|─Z─|─|─o────o─|─|─\n",
      "q3: ... X─H─X─X─X─RZ─X─X─X─H─X─X─X─RZ─X─X─X───X─X─X─RZ─X─X─X─\n"
     ]
    }
   ],
   "source": [
    "n_qubit = 4\n",
    "layers = 3\n",
    "test_circ = Circuit(nqubits=n_qubit)\n",
    "random_alpha = np.random.random(3*n_qubit*layers)\n",
    "circ_U(circuit=test_circ,alpha=random_alpha,layers=layers)\n",
    "print(test_circ.draw())"
   ]
  }
 ],
 "metadata": {
  "kernelspec": {
   "display_name": "qibo",
   "language": "python",
   "name": "python3"
  },
  "language_info": {
   "codemirror_mode": {
    "name": "ipython",
    "version": 3
   },
   "file_extension": ".py",
   "mimetype": "text/x-python",
   "name": "python",
   "nbconvert_exporter": "python",
   "pygments_lexer": "ipython3",
   "version": "3.8.18"
  }
 },
 "nbformat": 4,
 "nbformat_minor": 2
}
