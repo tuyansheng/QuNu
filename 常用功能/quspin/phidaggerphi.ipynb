{
 "cells": [
  {
   "cell_type": "markdown",
   "metadata": {},
   "source": [
    "在简化相互作用的形式基础上构造phidaggerphi"
   ]
  },
  {
   "cell_type": "markdown",
   "metadata": {},
   "source": [
    "输入lattice position i & lattice position j,返回一个数据类型为hamiltonian的结果"
   ]
  },
  {
   "cell_type": "markdown",
   "metadata": {},
   "source": [
    "其实就是帮你做了Jordan-Wigner变换"
   ]
  },
  {
   "cell_type": "code",
   "execution_count": 1,
   "metadata": {},
   "outputs": [],
   "source": [
    "from quspin.operators import hamiltonian  # Hamiltonians and operators\n",
    "from quspin.basis import spin_basis_1d  # Hilbert space spin basis"
   ]
  },
  {
   "cell_type": "code",
   "execution_count": 2,
   "metadata": {},
   "outputs": [],
   "source": [
    "# define one Pauli matrices\n",
    "def h_n(Interaction_form: str, position: int, Coefficient=1):\n",
    "    \"\"\"this function is one Pauli matrices, return hamiltonian.\n",
    "    need choose basis first!!!\n",
    "    first parameter is interaction form, you can input 'x','y','z','I'.\n",
    "    second parameter is coefficient before,\n",
    "    last two parameter is lattice position,\n",
    "     \"\"\"\n",
    "    h_list = [[Coefficient, position]]\n",
    "    h_op = [[Interaction_form, h_list]]\n",
    "    dynamic = []\n",
    "    ham = hamiltonian(static_list=h_op, dynamic_list=dynamic,\n",
    "                      dtype=np.complex128, basis=basis, check_herm=False, check_symm=False)\n",
    "    return ham\n",
    "\n",
    "# define two Pauli matrices interaction\n",
    "def h_nn(Interaction_form: str, position1: int, position2: int, Coefficient=1):\n",
    "    \"\"\"this function is two Pauli matrices interaction, return hamiltonian.\n",
    "    need choose basis first!!!\n",
    "    first parameter is interaction form, you can input 'xx','yy','zz'...\n",
    "    second parameter is coefficient before,\n",
    "    last two parameter is lattice position,\n",
    "     \"\"\"\n",
    "    h_list = [[Coefficient, position1, position2]]\n",
    "    h_op = [[Interaction_form, h_list]]\n",
    "    dynamic = []\n",
    "    ham = hamiltonian(static_list=h_op, dynamic_list=dynamic,\n",
    "                      dtype=np.complex128, basis=basis, check_herm=False, check_symm=False)\n",
    "    return ham\n",
    "\n",
    "# define phi dagger phi\n",
    "def pdaggerp(LN_i:int,LN_j:int):\n",
    "    \"\"\"直接手算了psidagger psi得到的具体形式，args LN_i(LN_j) mean LN_i(LN_j) th lattice number: LN_i*m + j\"\"\"\n",
    "    if LN_i==LN_j:\n",
    "        return (h_n('I',LN_i) + h_n('z',LN_i)) / 2\n",
    "    elif LN_i>LN_j:\n",
    "        temp = -1j/4 * (h_n('x',LN_i) + h_n('y',LN_i,1j)) * (h_n('x',LN_j) - h_n('y',LN_j,1j))\n",
    "        for k in range(LN_j+1,LN_i):\n",
    "            temp *= h_n('z',k,1j)\n",
    "        return temp\n",
    "    elif LN_i<LN_j:\n",
    "        temp = 1j/4 * (h_n('x',LN_i) + h_n('y',LN_i,1j)) * (h_n('x',LN_j) - h_n('y',LN_j,1j))\n",
    "        for k in range(LN_i+1,LN_j):\n",
    "            temp *= h_n('z',k,-1j)\n",
    "        return temp"
   ]
  },
  {
   "cell_type": "code",
   "execution_count": 3,
   "metadata": {},
   "outputs": [
    {
     "data": {
      "text/plain": [
       "<quspin.operators.hamiltonian:\n",
       "static mat: <16x16 sparse matrix of type '<class 'numpy.complex128'>'\n",
       "\twith 16 stored elements (1 diagonals) in DIAgonal format>\n",
       "dynamic:>"
      ]
     },
     "execution_count": 3,
     "metadata": {},
     "output_type": "execute_result"
    }
   ],
   "source": [
    "n_qubit = 4\n",
    "basis = spin_basis_1d(n_qubit)\n",
    "pdaggerp(LN_i=0,LN_j=0)"
   ]
  }
 ],
 "metadata": {
  "kernelspec": {
   "display_name": "qibo",
   "language": "python",
   "name": "python3"
  },
  "language_info": {
   "codemirror_mode": {
    "name": "ipython",
    "version": 3
   },
   "file_extension": ".py",
   "mimetype": "text/x-python",
   "name": "python",
   "nbconvert_exporter": "python",
   "pygments_lexer": "ipython3",
   "version": "3.9.18"
  }
 },
 "nbformat": 4,
 "nbformat_minor": 2
}
