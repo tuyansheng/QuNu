{
 "cells": [
  {
   "cell_type": "markdown",
   "metadata": {},
   "source": [
    "直接用直积的方式构建initial state"
   ]
  },
  {
   "cell_type": "markdown",
   "metadata": {},
   "source": [
    "输入一个str，例：'0101'，返回对应的矢量：[0 0 0 0 0 1 0 0 0 0 0 0 0 0 0 0]"
   ]
  },
  {
   "cell_type": "code",
   "execution_count": 1,
   "metadata": {},
   "outputs": [],
   "source": [
    "import numpy as np  # generic math functions"
   ]
  },
  {
   "cell_type": "code",
   "execution_count": 2,
   "metadata": {},
   "outputs": [],
   "source": [
    "# Opt initial state\n",
    "def computer_basis(i):\n",
    "    \"\"\"构造计算机基矢 | 0 > or | 1 > , i取0或1是格点自旋本征态 \"\"\"\n",
    "    if i==0:\n",
    "        return np.array([1,0])\n",
    "    elif i==1:\n",
    "        return np.array([0,1])\n",
    "    else:\n",
    "        print('Out of base optional range')\n",
    "    \n",
    "def initial_state(input_str:str):\n",
    "    \"\"\"输入一段数字，其中为0或者1，例如 '010101010101'，长度与qubit数一致\"\"\"\n",
    "    if len(input_str) != n_qubit:\n",
    "        return 'Length is not equal to number of qubits'\n",
    "    else:\n",
    "        res = 1\n",
    "        for i in range(n_qubit):\n",
    "            temp = int(input_str[i])\n",
    "            res = np.kron(res,computer_basis(temp))\n",
    "        return res"
   ]
  },
  {
   "cell_type": "code",
   "execution_count": 3,
   "metadata": {},
   "outputs": [
    {
     "name": "stdout",
     "output_type": "stream",
     "text": [
      "[0 0 0 0 0 1 0 0 0 0 0 0 0 0 0 0]\n"
     ]
    }
   ],
   "source": [
    "n_qubit = 4\n",
    "IState = initial_state('0101')\n",
    "print(IState)"
   ]
  }
 ],
 "metadata": {
  "kernelspec": {
   "display_name": "qibo",
   "language": "python",
   "name": "python3"
  },
  "language_info": {
   "codemirror_mode": {
    "name": "ipython",
    "version": 3
   },
   "file_extension": ".py",
   "mimetype": "text/x-python",
   "name": "python",
   "nbconvert_exporter": "python",
   "pygments_lexer": "ipython3",
   "version": "3.9.18"
  }
 },
 "nbformat": 4,
 "nbformat_minor": 2
}
