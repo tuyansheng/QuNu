{
 "cells": [
  {
   "cell_type": "markdown",
   "metadata": {},
   "source": [
    "VQE：变分法"
   ]
  },
  {
   "cell_type": "markdown",
   "metadata": {},
   "source": [
    "VQE本身就有很大的自由度，可以选择不同的线路，这里使用了组里常用的线路，请按需修改"
   ]
  },
  {
   "cell_type": "markdown",
   "metadata": {},
   "source": [
    "这里用了类（class），请自行bing搜索相关使用方法"
   ]
  },
  {
   "cell_type": "markdown",
   "metadata": {},
   "source": [
    "这里是最小化自由能，如果需要最小化其它，请自行修改"
   ]
  },
  {
   "cell_type": "code",
   "execution_count": null,
   "metadata": {},
   "outputs": [],
   "source": [
    "from quspin.operators import hamiltonian  # Hamiltonians and operators\n",
    "from quspin.basis import spin_basis_1d  # Hilbert space spin basis\n",
    "from quspin.tools.evolution import expm_multiply_parallel\n",
    "import numpy as np  # generic math functions\n",
    "import matplotlib.pyplot as plt\n",
    "from scipy.optimize import minimize, basinhopping\n",
    "from datetime import date\n",
    "import multiprocessing as mp\n",
    "from scipy import sparse\n",
    "from scipy.sparse import csr_matrix\n",
    "from scipy.sparse.linalg import eigs\n",
    "import random\n",
    "from math import pi"
   ]
  },
  {
   "cell_type": "code",
   "execution_count": null,
   "metadata": {},
   "outputs": [],
   "source": [
    "# define one Pauli matrices\n",
    "def h_n(Interaction_form: str, position: int, Coefficient=1):\n",
    "    \"\"\"this function is one Pauli matrices, return hamiltonian.\n",
    "    need choose basis first!!!\n",
    "    first parameter is interaction form, you can input 'x','y','z','I'.\n",
    "    second parameter is coefficient before,\n",
    "    last two parameter is lattice position,\n",
    "     \"\"\"\n",
    "    h_list = [[Coefficient, position]]\n",
    "    h_op = [[Interaction_form, h_list]]\n",
    "    dynamic = []\n",
    "    ham = hamiltonian(static_list=h_op, dynamic_list=dynamic,\n",
    "                      dtype=np.complex128, basis=basis, check_herm=False, check_symm=False)\n",
    "    return ham\n",
    "\n",
    "# define two Pauli matrices interaction\n",
    "def h_nn(Interaction_form: str, position1: int, position2: int, Coefficient=1):\n",
    "    \"\"\"this function is two Pauli matrices interaction, return hamiltonian.\n",
    "    need choose basis first!!!\n",
    "    first parameter is interaction form, you can input 'xx','yy','zz'...\n",
    "    second parameter is coefficient before,\n",
    "    last two parameter is lattice position,\n",
    "     \"\"\"\n",
    "    h_list = [[Coefficient, position1, position2]]\n",
    "    h_op = [[Interaction_form, h_list]]\n",
    "    dynamic = []\n",
    "    ham = hamiltonian(static_list=h_op, dynamic_list=dynamic,\n",
    "                      dtype=np.complex128, basis=basis, check_herm=False, check_symm=False)\n",
    "    return ham"
   ]
  },
  {
   "cell_type": "code",
   "execution_count": null,
   "metadata": {},
   "outputs": [],
   "source": [
    "class VQE(): \n",
    "    def __init__(self,state,layers,temperature):\n",
    "        \"\"\"需要输入初态，运行层数和温度\"\"\"\n",
    "        self.layers = layers\n",
    "        self.state = state\n",
    "        self.temperature = temperature\n",
    "\n",
    "    def CNOT(self,position_i:int,position_j:int): # 返回数据类型：expm_multiply_parallel\n",
    "        \"\"\"position_i is control qbit!\"\"\"\n",
    "        temp = h_nn('II',position1=position_i,position2=position_j) - h_nn('zI',position1=position_i,position2=position_j) - h_nn('Ix',position1=position_i,position2=position_j) + h_nn('zx',position1=position_i,position2=position_j)\n",
    "        res = expm_multiply_parallel(A=temp.tocsc(),a=1j*pi/4)\n",
    "        return res\n",
    "    \n",
    "    def circuit1(self,alpha): # 制造混态（m+1个为一组）\n",
    "        \"\"\"alpha大小为1*n（=辅助qubit数量）\"\"\"\n",
    "        for i in range(n): # 旋转辅助比特(RX)，i为第i个辅助qubit\n",
    "            self.state = expm_multiply_parallel(A=h_n('x',n*m+i).tocsr(),a=-1j * alpha[i]).dot(self.state)\n",
    "        for i in range(n): # 作用CNOT\n",
    "            for j in range(m):\n",
    "                self.state = self.CNOT(n*m+i,m*i+j).dot(self.state)\n",
    "\n",
    "    def circuit2(self,beta,psi_index): # 对混态进行演化，beta为一个长度为5*l的参数表（演化参数）\n",
    "        \"\"\"beta大小为3*l，3 from Hamilton, and l are layers\"\"\"\n",
    "        if psi_index==1:\n",
    "            for l in range(self.layers): # 演化层数\n",
    "                self.state = expm_multiply_parallel(A = Hx1.tocsr(), a = -1j * beta[H_number*l]).dot(self.state)\n",
    "                self.state = expm_multiply_parallel(A = Hy1.tocsr(), a = -1j * beta[H_number*l+1]).dot(self.state)\n",
    "                # self.state = expm_multiply_parallel(A = Hm1.tocsr(), a = -1j * beta[H_number*l+2]).dot(self.state)\n",
    "                self.state = expm_multiply_parallel(A = HI1.tocsr(), a = -1j * beta[H_number*l+2]).dot(self.state)\n",
    "        elif psi_index==2:\n",
    "            for l in range(self.layers): # 演化层数\n",
    "                self.state = expm_multiply_parallel(A = Hx2.tocsr(), a = -1j * beta[H_number*l]).dot(self.state)\n",
    "                self.state = expm_multiply_parallel(A = Hy2.tocsr(), a = -1j * beta[H_number*l+1]).dot(self.state)\n",
    "                # self.state = expm_multiply_parallel(A = Hm2.tocsr(), a = -1j * beta[H_number*l+2]).dot(self.state)\n",
    "                self.state = expm_multiply_parallel(A = HI2.tocsr(), a = -1j * beta[H_number*l+2]).dot(self.state)\n",
    "\n",
    "    def thermal_state(self,params,psi_index):\n",
    "        \"\"\"返回做完线路之后的态\"\"\"\n",
    "        alpha = params[0 : n]\n",
    "        beta = params[n : n + H_number*self.layers]\n",
    "        self.circuit1(alpha=alpha)\n",
    "        self.circuit2(beta=beta,psi_index=psi_index)\n",
    "        return self.state\n",
    "    \n",
    "    def entropy(self,params):\n",
    "        res = 0\n",
    "        for i in range(n):\n",
    "            temp_a = params[i]\n",
    "            res += - np.sin(temp_a)**2 * np.log(np.sin(temp_a)**2) - np.cos(temp_a)**2 * np.log(np.cos(temp_a)**2)\n",
    "        return res\n",
    "    \n",
    "    def energy(self,params,psi_index):\n",
    "        if psi_index==1:\n",
    "            temp_state = self.thermal_state(params=params,psi_index=1)\n",
    "            res = np.vdot(temp_state,H1.dot(temp_state))\n",
    "        elif psi_index==2:\n",
    "            temp_state = self.thermal_state(params=params,psi_index=2)\n",
    "            res = np.vdot(temp_state,H2.dot(temp_state))\n",
    "        else:\n",
    "            print('psi index out of range')\n",
    "        return np.real(res)\n",
    "    \n",
    "    def free_energy(self,params,psi_index):\n",
    "        E = self.energy(params=params,psi_index=psi_index)\n",
    "        T = self.temperature\n",
    "        S = self.entropy(params=params)\n",
    "        return np.real(E - T * S)\n",
    "    \n",
    "    def Opt(self,psi_index):\n",
    "        \"\"\"only fix temperture!!!!\"\"\"\n",
    "        params = np.random.rand(n+H_number*self.layers)\n",
    "        optimizer = minimize(fun=self.free_energy, x0=params, args=psi_index, method='BFGS', options={'gtol': 1e-15, 'eps': 1e-08, 'disp': True}) # 'gtol'：梯度，'eps'：步长，'disp'：打印信息\n",
    "        return optimizer\n"
   ]
  }
 ],
 "metadata": {
  "kernelspec": {
   "display_name": "qibo",
   "language": "python",
   "name": "python3"
  },
  "language_info": {
   "codemirror_mode": {
    "name": "ipython",
    "version": 3
   },
   "file_extension": ".py",
   "mimetype": "text/x-python",
   "name": "python",
   "nbconvert_exporter": "python",
   "pygments_lexer": "ipython3",
   "version": "3.9.18"
  }
 },
 "nbformat": 4,
 "nbformat_minor": 2
}
