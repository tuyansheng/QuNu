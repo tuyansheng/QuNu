{
 "cells": [
  {
   "cell_type": "markdown",
   "metadata": {},
   "source": [
    "简化输入哈密顿量的难度"
   ]
  },
  {
   "cell_type": "markdown",
   "metadata": {},
   "source": [
    "输入相互作用形式，可以是单量子门或者双量子门，同时标记作用在第几个qubit，返回quspin hamiltonian数据类型"
   ]
  },
  {
   "cell_type": "markdown",
   "metadata": {},
   "source": [
    "具体Hamiltonian数据类型的使用方法请自行看官方文档：https://quspin.github.io/QuSpin/index.html"
   ]
  },
  {
   "cell_type": "code",
   "execution_count": 1,
   "metadata": {},
   "outputs": [],
   "source": [
    "from quspin.operators import hamiltonian  # Hamiltonians and operators\n",
    "from quspin.basis import spin_basis_1d  # Hilbert space spin basis\n",
    "from quspin.tools.evolution import expm_multiply_parallel\n",
    "import numpy as np  # generic math functions\n",
    "import matplotlib.pyplot as plt\n",
    "from scipy.optimize import minimize, basinhopping\n",
    "from datetime import date\n",
    "import multiprocessing as mp\n",
    "from scipy import sparse\n",
    "from scipy.sparse import csr_matrix\n",
    "from scipy.sparse.linalg import eigs\n",
    "import random\n",
    "from math import pi"
   ]
  },
  {
   "cell_type": "code",
   "execution_count": 2,
   "metadata": {},
   "outputs": [],
   "source": [
    "# define one Pauli matrices\n",
    "def h_n(Interaction_form: str, position: int, Coefficient=1):\n",
    "    \"\"\"this function is one Pauli matrices, return hamiltonian.\n",
    "    need choose basis first!!!\n",
    "    first parameter is interaction form, you can input 'x','y','z','I'.\n",
    "    second parameter is coefficient before,\n",
    "    last two parameter is lattice position,\n",
    "     \"\"\"\n",
    "    h_list = [[Coefficient, position]]\n",
    "    h_op = [[Interaction_form, h_list]]\n",
    "    dynamic = []\n",
    "    ham = hamiltonian(static_list=h_op, dynamic_list=dynamic,\n",
    "                      dtype=np.complex128, basis=basis, check_herm=False, check_symm=False)\n",
    "    return ham\n",
    "\n",
    "# define two Pauli matrices interaction\n",
    "def h_nn(Interaction_form: str, position1: int, position2: int, Coefficient=1):\n",
    "    \"\"\"this function is two Pauli matrices interaction, return hamiltonian.\n",
    "    need choose basis first!!!\n",
    "    first parameter is interaction form, you can input 'xx','yy','zz'...\n",
    "    second parameter is coefficient before,\n",
    "    last two parameter is lattice position,\n",
    "     \"\"\"\n",
    "    h_list = [[Coefficient, position1, position2]]\n",
    "    h_op = [[Interaction_form, h_list]]\n",
    "    dynamic = []\n",
    "    ham = hamiltonian(static_list=h_op, dynamic_list=dynamic,\n",
    "                      dtype=np.complex128, basis=basis, check_herm=False, check_symm=False)\n",
    "    return ham"
   ]
  },
  {
   "cell_type": "code",
   "execution_count": 3,
   "metadata": {},
   "outputs": [
    {
     "data": {
      "text/plain": [
       "<quspin.operators.hamiltonian:\n",
       "static mat: <16x16 sparse matrix of type '<class 'numpy.complex128'>'\n",
       "\twith 16 stored elements in Compressed Sparse Row format>\n",
       "dynamic:>"
      ]
     },
     "execution_count": 3,
     "metadata": {},
     "output_type": "execute_result"
    }
   ],
   "source": [
    "n_qubit = 4\n",
    "basis = spin_basis_1d(n_qubit)\n",
    "h_n('x',1)"
   ]
  }
 ],
 "metadata": {
  "kernelspec": {
   "display_name": "qibo",
   "language": "python",
   "name": "python3"
  },
  "language_info": {
   "codemirror_mode": {
    "name": "ipython",
    "version": 3
   },
   "file_extension": ".py",
   "mimetype": "text/x-python",
   "name": "python",
   "nbconvert_exporter": "python",
   "pygments_lexer": "ipython3",
   "version": "3.9.18"
  }
 },
 "nbformat": 4,
 "nbformat_minor": 2
}
