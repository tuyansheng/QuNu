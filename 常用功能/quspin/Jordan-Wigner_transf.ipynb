{
 "cells": [
  {
   "cell_type": "markdown",
   "metadata": {},
   "source": [
    "虽然写了这个功能，但我不用，因为哈密顿量里面基本上就是phidaggerphi，我会直接用phidaggerphi的功能"
   ]
  },
  {
   "cell_type": "code",
   "execution_count": 1,
   "metadata": {},
   "outputs": [],
   "source": [
    "from quspin.operators import hamiltonian  # Hamiltonians and operators\n",
    "from quspin.basis import spin_basis_1d  # Hilbert space spin basis\n",
    "import numpy as np"
   ]
  },
  {
   "cell_type": "code",
   "execution_count": 2,
   "metadata": {},
   "outputs": [],
   "source": [
    "# define one Pauli matrices\n",
    "def h_n(Interaction_form: str, position: int, Coefficient=1):\n",
    "    \"\"\"this function is one Pauli matrices, return hamiltonian.\n",
    "    need choose basis first!!!\n",
    "    first parameter is interaction form, you can input 'x','y','z','I'.\n",
    "    second parameter is coefficient before,\n",
    "    last two parameter is lattice position,\n",
    "     \"\"\"\n",
    "    h_list = [[Coefficient, position]]\n",
    "    h_op = [[Interaction_form, h_list]]\n",
    "    dynamic = []\n",
    "    ham = hamiltonian(static_list=h_op, dynamic_list=dynamic,\n",
    "                      dtype=np.complex128, basis=basis, check_herm=False, check_symm=False)\n",
    "    return ham\n",
    "\n",
    "# define two Pauli matrices interaction\n",
    "def h_nn(Interaction_form: str, position1: int, position2: int, Coefficient=1):\n",
    "    \"\"\"this function is two Pauli matrices interaction, return hamiltonian.\n",
    "    need choose basis first!!!\n",
    "    first parameter is interaction form, you can input 'xx','yy','zz'...\n",
    "    second parameter is coefficient before,\n",
    "    last two parameter is lattice position,\n",
    "     \"\"\"\n",
    "    h_list = [[Coefficient, position1, position2]]\n",
    "    h_op = [[Interaction_form, h_list]]\n",
    "    dynamic = []\n",
    "    ham = hamiltonian(static_list=h_op, dynamic_list=dynamic,\n",
    "                      dtype=np.complex128, basis=basis, check_herm=False, check_symm=False)\n",
    "    return ham\n",
    "\n",
    "# Jordan-Wigner transf.\n",
    "def JWtransf(i:int):\n",
    "    \"\"\"J-W transf. phi_i = 1/2 * (X_i - i*Y_i) * sum_k=0^i-1 (-i*Z_k)\"\"\"\n",
    "    res = (h_n('x',i) - h_n('y',i,1j))/2\n",
    "    for k in range(i): # sum部分\n",
    "        res = res * h_n('z',k,1j)\n",
    "    return res"
   ]
  },
  {
   "cell_type": "code",
   "execution_count": 3,
   "metadata": {},
   "outputs": [
    {
     "data": {
      "text/plain": [
       "<quspin.operators.hamiltonian:\n",
       "static mat: <16x16 sparse matrix of type '<class 'numpy.complex128'>'\n",
       "\twith 8 stored elements in Compressed Sparse Row format>\n",
       "dynamic:>"
      ]
     },
     "execution_count": 3,
     "metadata": {},
     "output_type": "execute_result"
    }
   ],
   "source": [
    "n_qubit = 4\n",
    "basis = spin_basis_1d(n_qubit)\n",
    "JWtransf(i=1)"
   ]
  }
 ],
 "metadata": {
  "kernelspec": {
   "display_name": "qibo",
   "language": "python",
   "name": "python3"
  },
  "language_info": {
   "codemirror_mode": {
    "name": "ipython",
    "version": 3
   },
   "file_extension": ".py",
   "mimetype": "text/x-python",
   "name": "python",
   "nbconvert_exporter": "python",
   "pygments_lexer": "ipython3",
   "version": "3.9.18"
  }
 },
 "nbformat": 4,
 "nbformat_minor": 2
}
